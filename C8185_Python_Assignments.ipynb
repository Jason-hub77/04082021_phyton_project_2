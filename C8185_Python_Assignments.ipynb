{
  "nbformat": 4,
  "nbformat_minor": 0,
  "metadata": {
    "colab": {
      "name": "C8185/Python-Assignments.ipynb",
      "provenance": [],
      "authorship_tag": "ABX9TyMYD++x/JCcr7jwV14j/tkw",
      "include_colab_link": true
    },
    "kernelspec": {
      "name": "python3",
      "display_name": "Python 3"
    },
    "language_info": {
      "name": "python"
    }
  },
  "cells": [
    {
      "cell_type": "markdown",
      "metadata": {
        "id": "view-in-github",
        "colab_type": "text"
      },
      "source": [
        "<a href=\"https://colab.research.google.com/github/Jason-hub77/04082021_phyton_project_2/blob/main/C8185_Python_Assignments.ipynb\" target=\"_parent\"><img src=\"https://colab.research.google.com/assets/colab-badge.svg\" alt=\"Open In Colab\"/></a>"
      ]
    },
    {
      "cell_type": "code",
      "metadata": {
        "colab": {
          "base_uri": "https://localhost:8080/"
        },
        "id": "BQ0tv6to5NvB",
        "outputId": "484d94ee-9eb6-4c17-9cec-c58d9382fdc0"
      },
      "source": [
        "#program for reminding password\n",
        "name=\"Jason\"\n",
        "\n",
        "for i in range(3):\n",
        "  nm = input(\"Enter your name : \")\n",
        "  j=3\n",
        "  if(nm==name):\n",
        "     print(\"Hello, Jason!  The password is : elfblgn\")\n",
        "     break\n",
        "  else:\n",
        "     print(\"Hello, {}! See You later\".format(nm))\n",
        "     continue\n",
        "print(\"\\n you can enter password\")"
      ],
      "execution_count": 2,
      "outputs": [
        {
          "output_type": "stream",
          "text": [
            "Enter your name : gnfxg\n",
            "Hello, gnfxg! See You later\n",
            "Enter your name : fghsfh\n",
            "Hello, fghsfh! See You later\n",
            "Enter your name : fffn\n",
            "Hello, fffn! See You later\n",
            "\n",
            " you can enter password\n"
          ],
          "name": "stdout"
        }
      ]
    },
    {
      "cell_type": "code",
      "metadata": {
        "colab": {
          "base_uri": "https://localhost:8080/"
        },
        "id": "fhVtdAIX6fSv",
        "outputId": "fa7dd389-ad98-4c8c-8606-3836d83f2056"
      },
      "source": [
        "#Armstrong Sayısı Bulma Programı\n",
        "while True:\n",
        "  armstrong_sayisi = input ('Bir sayı giriniz... ')\n",
        "  if not armstrong_sayisi.strip().lstrip('+-').isdigit():\n",
        "    print (armstrong_sayisi, 'bir sayı değildir.\\n')\n",
        "  elif int (armstrong_sayisi)<0 :\n",
        "      print(\"Negatif sayı giremezsiniz...\\n\")\n",
        "  elif int (armstrong_sayisi)==0:\n",
        "      print(\"sıfır tabiki Armstrong sayısı. Tekrar deneyin...\\n\")\n",
        "  else:\n",
        "      new_armstrong = 0\n",
        "      for i in armstrong_sayisi:\n",
        "         new_armstrong += pow(int(i), len(armstrong_sayisi))\n",
        "      if new_armstrong == int(armstrong_sayisi):\n",
        "        print(armstrong_sayisi, \"bir Armstrong sayısıdır.\")\n",
        "      else:\n",
        "         print(\"Ne yazık ki\", armstrong_sayisi, \"bir Armstrong sayısı değildir.\")\n",
        "      break"
      ],
      "execution_count": 4,
      "outputs": [
        {
          "output_type": "stream",
          "text": [
            "Bir sayı giriniz... -ıo\n",
            "-ıo bir sayı değildir.\n",
            "\n",
            "Bir sayı giriniz... ıo\n",
            "ıo bir sayı değildir.\n",
            "\n",
            "Bir sayı giriniz... 10\n",
            "Ne yazık ki 10 bir Armstrong sayısı değildir.\n"
          ],
          "name": "stdout"
        }
      ]
    },
    {
      "cell_type": "code",
      "metadata": {
        "colab": {
          "base_uri": "https://localhost:8080/"
        },
        "id": "j4CyyG2P7JjJ",
        "outputId": "78d06765-9142-4dbe-f565-78c2e46ef7a9"
      },
      "source": [
        "age = bool (input ('Are you a cigarette addict older than 75 years old?\\n\\\n",
        "Write yes for approval and only press enter for no ' ))\n",
        "chronic = bool (input('Do you have a severe chronic disease?\\n\\\n",
        "Write yes for approval and only press enter for no '))\n",
        "immune = bool (input('Is your immune system too weak?\\n\\\n",
        "Write yes for approval and only press enter for no '))\n",
        "risk = age and chronic and immune\n",
        "if (risk==True):\n",
        "   print(\"You are in risky group\")\n",
        "else:\n",
        "  print(\"You are not in risky group\")"
      ],
      "execution_count": 5,
      "outputs": [
        {
          "output_type": "stream",
          "text": [
            "Are you a cigarette addict older than 75 years old?\n",
            "Write yes for approval and only press enter for no 66\n",
            "Do you have a severe chronic disease?\n",
            "Write yes for approval and only press enter for no no\n",
            "Is your immune system too weak?\n",
            "Write yes for approval and only press enter for no yes\n",
            "You are in risky group\n"
          ],
          "name": "stdout"
        }
      ]
    }
  ]
}