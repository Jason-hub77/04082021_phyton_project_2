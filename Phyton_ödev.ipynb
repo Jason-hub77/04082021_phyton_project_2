{
  "nbformat": 4,
  "nbformat_minor": 0,
  "metadata": {
    "colab": {
      "name": "Phyton_ödev.ipynb",
      "provenance": [],
      "collapsed_sections": [],
      "authorship_tag": "ABX9TyOZ97UwiaFQ8Y+gKZGaDmhG",
      "include_colab_link": true
    },
    "kernelspec": {
      "name": "python3",
      "display_name": "Python 3"
    }
  },
  "cells": [
    {
      "cell_type": "markdown",
      "metadata": {
        "id": "view-in-github",
        "colab_type": "text"
      },
      "source": [
        "<a href=\"https://colab.research.google.com/github/Jason-hub77/04082021_phyton_project_2/blob/main/Phyton_%C3%B6dev.ipynb\" target=\"_parent\"><img src=\"https://colab.research.google.com/assets/colab-badge.svg\" alt=\"Open In Colab\"/></a>"
      ]
    },
    {
      "cell_type": "code",
      "metadata": {
        "colab": {
          "base_uri": "https://localhost:8080/"
        },
        "id": "b-QAj0QwmIpo",
        "outputId": "d255306e-c57a-431a-e7ee-69927e3400a7"
      },
      "source": [
        "name = {\n",
        "    'Cahit': 'W@12',\n",
        "    'Emir': 'Xzy%',\n",
        "    'Ceren': 'kYt&',\n",
        "    'Ali': 'hT!x',\n",
        "    'Furkan': 'pOn?'\n",
        "}\n",
        "user = input(\"What is your name?\\n\")\n",
        "# print(user)\n",
        "# ver = user.issuperset(personel)\n",
        "ver = personel.get(user)\n",
        "print(ver)"
      ],
      "execution_count": null,
      "outputs": [
        {
          "output_type": "stream",
          "text": [
            "What is your name?\n",
            "Alec\n",
            "pOn?\n"
          ],
          "name": "stdout"
        }
      ]
    },
    {
      "cell_type": "code",
      "metadata": {
        "colab": {
          "base_uri": "https://localhost:8080/"
        },
        "id": "Zdu9UuvwPY_V",
        "outputId": "07305c16-ee09-454c-e589-91a3f8850011"
      },
      "source": [
        "numbers = [1, 4, 7]\n",
        "numbers.insert(2, 9)\n",
        "print(numbers)\n",
        "numbers.insert(2, 6)\n",
        "print(numbers)\n",
        "numbers.insert(0, \"www\")\n",
        "numbers.insert\n",
        "print(numbers)"
      ],
      "execution_count": null,
      "outputs": [
        {
          "output_type": "stream",
          "text": [
            "[1, 4, 9, 7]\n",
            "[1, 4, 6, 9, 7]\n",
            "['www', 1, 4, 6, 9, 7]\n"
          ],
          "name": "stdout"
        }
      ]
    },
    {
      "cell_type": "code",
      "metadata": {
        "id": "wkaaOH-XPZ4u",
        "colab": {
          "base_uri": "https://localhost:8080/"
        },
        "outputId": "6e44d706-9368-4a9f-e2c2-0bde1cb7c1a4"
      },
      "source": [
        "list(\"111\")"
      ],
      "execution_count": null,
      "outputs": [
        {
          "output_type": "execute_result",
          "data": {
            "text/plain": [
              "['1', '1', '1']"
            ]
          },
          "metadata": {
            "tags": []
          },
          "execution_count": 1
        }
      ]
    },
    {
      "cell_type": "code",
      "metadata": {
        "id": "1ZxrybdnKxUq"
      },
      "source": [
        "num1 = float(input(\"first :\"))\n",
        "num2 = float(input(\"second :\"))\n",
        "if (num1 > num2) :\n",
        "  larger = num1\n",
        "else :\n",
        "  larger = num2\n",
        "\n",
        "print(\"ghj\", larger)"
      ],
      "execution_count": null,
      "outputs": []
    },
    {
      "cell_type": "code",
      "metadata": {
        "id": "Bc5YS12YPZ8Z",
        "colab": {
          "base_uri": "https://localhost:8080/"
        },
        "outputId": "f7d03cdc-8bf9-41bd-d586-528fd1f43e66"
      },
      "source": [
        "\n",
        "numbet.append(\"222\")\n",
        "numbet.append(\"999\")\n",
        "numbet"
      ],
      "execution_count": null,
      "outputs": [
        {
          "output_type": "execute_result",
          "data": {
            "text/plain": [
              "[666, 222, 333, 888, 333, 888, 999, 888, '999', '222', '999']"
            ]
          },
          "metadata": {
            "tags": []
          },
          "execution_count": 10
        }
      ]
    },
    {
      "cell_type": "code",
      "metadata": {
        "id": "z6AnBRsiPZ-p",
        "colab": {
          "base_uri": "https://localhost:8080/"
        },
        "outputId": "1684a4dd-47ad-4bc1-efbc-b20593b7854e"
      },
      "source": [
        "city = [\"a\", \"b\",\"c\"]\n",
        "city[0] = True\n",
        "city[1:] = \"clarus\"\n",
        "city"
      ],
      "execution_count": null,
      "outputs": [
        {
          "output_type": "execute_result",
          "data": {
            "text/plain": [
              "[True, 'c', 'l', 'a', 'r', 'u', 's']"
            ]
          },
          "metadata": {
            "tags": []
          },
          "execution_count": 7
        }
      ]
    },
    {
      "cell_type": "code",
      "metadata": {
        "id": "Ygx9ZCG6PaBU"
      },
      "source": [
        "city = [\"a\", \"b\",\"c\"]"
      ],
      "execution_count": null,
      "outputs": []
    },
    {
      "cell_type": "code",
      "metadata": {
        "id": "s7KvI8d0PaER",
        "colab": {
          "base_uri": "https://localhost:8080/"
        },
        "outputId": "d2ef32d2-7d50-4152-9860-35f78bcacce0"
      },
      "source": [
        "city"
      ],
      "execution_count": null,
      "outputs": [
        {
          "output_type": "execute_result",
          "data": {
            "text/plain": [
              "['a', 'b', 'c']"
            ]
          },
          "metadata": {
            "tags": []
          },
          "execution_count": 9
        }
      ]
    },
    {
      "cell_type": "code",
      "metadata": {
        "id": "R2d31wJgPaHM",
        "colab": {
          "base_uri": "https://localhost:8080/"
        },
        "outputId": "6c6d9d93-3e27-4816-f91c-74b58e4f5732"
      },
      "source": [
        "a = [1,2,3,4]\n",
        "a.insert(-1,5)\n",
        "a"
      ],
      "execution_count": null,
      "outputs": [
        {
          "output_type": "execute_result",
          "data": {
            "text/plain": [
              "[1, 2, 3, 5, 4]"
            ]
          },
          "metadata": {
            "tags": []
          },
          "execution_count": 12
        }
      ]
    },
    {
      "cell_type": "code",
      "metadata": {
        "id": "Ny-IAi8nPaKC",
        "colab": {
          "base_uri": "https://localhost:8080/"
        },
        "outputId": "968349ad-6f5a-4e2f-d8cb-dee458f7d06f"
      },
      "source": [
        "ter = \"tyou can learn almost everything in preclassz\"\n",
        "print(ter.upper().strip(\"TZ\"))"
      ],
      "execution_count": null,
      "outputs": [
        {
          "output_type": "stream",
          "text": [
            "YOU CAN LEARN ALMOST EVERYTHING IN PRECLASS\n"
          ],
          "name": "stdout"
        }
      ]
    },
    {
      "cell_type": "code",
      "metadata": {
        "colab": {
          "base_uri": "https://localhost:8080/"
        },
        "id": "nqykmaif2FLI",
        "outputId": "a3c2d39e-3acc-40ee-dd63-a65e8c881e3b"
      },
      "source": [
        "a.insert(-1,5)\n",
        "a"
      ],
      "execution_count": null,
      "outputs": [
        {
          "output_type": "execute_result",
          "data": {
            "text/plain": [
              "[1, 2, 3, 4, 5, 5]"
            ]
          },
          "metadata": {
            "tags": []
          },
          "execution_count": 11
        }
      ]
    },
    {
      "cell_type": "code",
      "metadata": {
        "id": "PMY2_I55PaM8",
        "colab": {
          "base_uri": "https://localhost:8080/"
        },
        "outputId": "071d3856-0950-401d-8dfa-494374fd3938"
      },
      "source": [
        "ornek = \"     başında ve sonunda   \"\n",
        "print(ornek)\n",
        "print(ornek.strip())\n",
        "print(ornek.lstrip())\n",
        "print(ornek.rstrip())"
      ],
      "execution_count": null,
      "outputs": [
        {
          "output_type": "stream",
          "text": [
            "     başında ve sonunda   \n",
            "başında ve sonunda\n",
            "başında ve sonunda   \n",
            "     başında ve sonunda\n"
          ],
          "name": "stdout"
        }
      ]
    },
    {
      "cell_type": "code",
      "metadata": {
        "id": "gvsnMJjwPaPo",
        "colab": {
          "base_uri": "https://localhost:8080/"
        },
        "outputId": "e2e8d08d-80b7-450b-c9dc-4b92298a795e"
      },
      "source": [
        "ornek = \"interoperability\"\n",
        "print(ornek.rstrip(\"yint\"))"
      ],
      "execution_count": null,
      "outputs": [
        {
          "output_type": "stream",
          "text": [
            "interoperabil\n"
          ],
          "name": "stdout"
        }
      ]
    },
    {
      "cell_type": "code",
      "metadata": {
        "id": "sf_0hd3ePaU9",
        "colab": {
          "base_uri": "https://localhost:8080/"
        },
        "outputId": "75a4a1d8-9121-4faa-98d6-06bff6b08d30"
      },
      "source": [
        "text = \"In God wee Trust\"\n",
        "print(text.replace(\"e\",\"\",1))\n",
        "print(text.replace(\"wee\",\"We\",1))\n",
        "print(text.replace(\"ee\",\"e\",1).title())\n",
        "print(text.title().replace(\"e\",\"\",1))\n"
      ],
      "execution_count": null,
      "outputs": [
        {
          "output_type": "stream",
          "text": [
            "In God we Trust\n",
            "In God We Trust\n",
            "In God We Trust\n",
            "In God We Trust\n"
          ],
          "name": "stdout"
        }
      ]
    },
    {
      "cell_type": "code",
      "metadata": {
        "id": "g-CSDCqUPaYc"
      },
      "source": [
        ""
      ],
      "execution_count": null,
      "outputs": []
    },
    {
      "cell_type": "code",
      "metadata": {
        "id": "2HtmvB_ePabI"
      },
      "source": [
        ""
      ],
      "execution_count": null,
      "outputs": []
    },
    {
      "cell_type": "code",
      "metadata": {
        "id": "kbW33VK0Paen"
      },
      "source": [
        ""
      ],
      "execution_count": null,
      "outputs": []
    },
    {
      "cell_type": "code",
      "metadata": {
        "id": "5N9yPkJRPah2"
      },
      "source": [
        ""
      ],
      "execution_count": null,
      "outputs": []
    },
    {
      "cell_type": "code",
      "metadata": {
        "id": "9LaWi8WkPajz"
      },
      "source": [
        ""
      ],
      "execution_count": null,
      "outputs": []
    },
    {
      "cell_type": "code",
      "metadata": {
        "colab": {
          "base_uri": "https://localhost:8080/"
        },
        "id": "jYq_wFnT8Cne",
        "outputId": "45dd8756-1b96-4637-c079-faeda29b4117"
      },
      "source": [
        "list_1=[\"h\", \"a\", \"p\", \"p\", \"y\"]\n",
        "word = \"happy\"\n",
        "l1 = [word]\n",
        "l2 = list(word)\n",
        "l3 = [1, 2, 3, \"wer\", True, \"False\", False]\n",
        "list_2 = list(word)\n",
        "print(list_1)\n",
        "print(list_2)\n",
        "print(l1)\n",
        "print(l2)\n",
        "print(l3)"
      ],
      "execution_count": null,
      "outputs": [
        {
          "output_type": "stream",
          "text": [
            "['h', 'a', 'p', 'p', 'y']\n",
            "['h', 'a', 'p', 'p', 'y']\n",
            "['happy']\n",
            "['h', 'a', 'p', 'p', 'y']\n",
            "[1, 2, 3, 'wer', True, 'False', False]\n"
          ],
          "name": "stdout"
        }
      ]
    },
    {
      "cell_type": "code",
      "metadata": {
        "colab": {
          "base_uri": "https://localhost:8080/"
        },
        "id": "01wsF-J98D8r",
        "outputId": "4fb11201-b7c8-498b-a2ad-b1b6a5674fb6"
      },
      "source": [
        "country = [\"USA\", \"Brasil\", \"UK\", \"Turkey\"]\n",
        "print(country)"
      ],
      "execution_count": null,
      "outputs": [
        {
          "output_type": "stream",
          "text": [
            "['USA', 'Brasil', 'UK', 'Turkey']\n"
          ],
          "name": "stdout"
        }
      ]
    },
    {
      "cell_type": "code",
      "metadata": {
        "colab": {
          "base_uri": "https://localhost:8080/"
        },
        "id": "y6INYcmW8EAP",
        "outputId": "256c0b22-b962-4489-f03b-fcf8d4fded09"
      },
      "source": [
        "str_1 = \"I quit smoking\"\n",
        "new_list_1 = list(str_1)\n",
        "print(new_list_1)\n",
        "new_list_2 = [str_1]\n",
        "print(new_list_2)\n",
        "newlist_3 = [\"fffff\", \"ttttt\", str_1]\n",
        "print(newlist_3)"
      ],
      "execution_count": null,
      "outputs": [
        {
          "output_type": "stream",
          "text": [
            "['I', ' ', 'q', 'u', 'i', 't', ' ', 's', 'm', 'o', 'k', 'i', 'n', 'g']\n",
            "['I quit smoking']\n",
            "['fffff', 'ttttt', 'I quit smoking']\n"
          ],
          "name": "stdout"
        }
      ]
    },
    {
      "cell_type": "code",
      "metadata": {
        "colab": {
          "base_uri": "https://localhost:8080/"
        },
        "id": "cwNlUXF28EDZ",
        "outputId": "9c2a91f8-6c07-47e3-fca7-e7551a8246cc"
      },
      "source": [
        "zar_1 = 123\n",
        "zar_2 = \"a string\"\n",
        "zar_3 = True\n",
        "zar_4 = 11.22\n",
        "mixed_list = [11, \"Joseph\", False, 3.14, None, [1, 2, 3, [\"list3\" , 22]], zar_1, zar_2, zar_3, zar_4]\n",
        "print(mixed_list)"
      ],
      "execution_count": null,
      "outputs": [
        {
          "output_type": "stream",
          "text": [
            "[11, 'Joseph', False, 3.14, None, [1, 2, 3, ['list3', 22]], 123, 'a string', True, 11.22]\n"
          ],
          "name": "stdout"
        }
      ]
    },
    {
      "cell_type": "code",
      "metadata": {
        "colab": {
          "base_uri": "https://localhost:8080/"
        },
        "id": "hWtve7hb8EHB",
        "outputId": "a12e4a19-b905-4b6b-fbca-9bafc1ab5f61"
      },
      "source": [
        "my_list = [\"Joseph\", \"Clarusway\", 2020]\n",
        "new_list_1 = list(my_list)\n",
        "new_list_2 = [my_list]\n",
        "print(new_list_1)\n",
        "print(len(new_list_1))\n",
        "print(new_list_1)\n",
        "print(len(new_list_2))\n",
        "print(my_list[1:-1])"
      ],
      "execution_count": null,
      "outputs": [
        {
          "output_type": "stream",
          "text": [
            "['Joseph', 'Clarusway', 2020]\n",
            "3\n",
            "['Joseph', 'Clarusway', 2020]\n",
            "1\n",
            "['Clarusway']\n"
          ],
          "name": "stdout"
        }
      ]
    },
    {
      "cell_type": "code",
      "metadata": {
        "colab": {
          "base_uri": "https://localhost:8080/"
        },
        "id": "juvdB1X-8EJW",
        "outputId": "4eefa211-84fc-4fdc-baa4-f35ce8e7cb31"
      },
      "source": [
        "name = \"jason\"\n",
        "print(list(name))\n",
        "list2 = [name]\n",
        "print(list2) \n",
        "print(new_list_1, type(new_list_1))\n",
        "print(len(new_list_1))\n",
        "print(new_list_2)\n",
        "print(new_list_2, len(new_list_2), type(new_list_2))"
      ],
      "execution_count": null,
      "outputs": [
        {
          "output_type": "stream",
          "text": [
            "['j', 'a', 's', 'o', 'n']\n",
            "['jason']\n",
            "['Joseph', 'Clarusway', 2020] <class 'list'>\n",
            "3\n",
            "[['Joseph', 'Clarusway', 2020]]\n",
            "[['Joseph', 'Clarusway', 2020]] 1 <class 'list'>\n"
          ],
          "name": "stdout"
        }
      ]
    },
    {
      "cell_type": "code",
      "metadata": {
        "colab": {
          "base_uri": "https://localhost:8080/"
        },
        "id": "ejNq8y6R8EL0",
        "outputId": "c820e489-8260-4621-a1b8-7c3ac8bc20ff"
      },
      "source": [
        "my_list1 = [\"2020's hard\"]\n",
        "my_list2 = list(\"2020's hard\")\n",
        "print(my_list1, \"\\nmy list is : \\t\\t \", len(my_list2), \"\\ntype of is :\\t\\t \", type(my_list1))\n",
        "print(my_list2)"
      ],
      "execution_count": null,
      "outputs": [
        {
          "output_type": "stream",
          "text": [
            "[\"2020's hard\"] \n",
            "my list is : \t\t  11 \n",
            "type of is :\t\t  <class 'list'>\n",
            "['2', '0', '2', '0', \"'\", 's', ' ', 'h', 'a', 'r', 'd']\n"
          ],
          "name": "stdout"
        }
      ]
    },
    {
      "cell_type": "code",
      "metadata": {
        "colab": {
          "base_uri": "https://localhost:8080/"
        },
        "id": "X2nxK60J8EOj",
        "outputId": "f04b6474-1260-425a-8e7b-280b272f0021"
      },
      "source": [
        "numbers = [1, 4, 7]\n",
        "numbers.append(9)\n",
        "numbers.append(\"9\")\n",
        "numbers.append(True)\n",
        "numbers.append(2.44)\n",
        "numbers.append(\"a str\")\n",
        "numbers.append([\"ff\",\"ee\", 22, False])\n",
        "print(numbers)"
      ],
      "execution_count": null,
      "outputs": [
        {
          "output_type": "stream",
          "text": [
            "[1, 4, 7, 9, '9', True, 2.44, 'a str', ['ff', 'ee', 22, False]]\n"
          ],
          "name": "stdout"
        }
      ]
    },
    {
      "cell_type": "code",
      "metadata": {
        "colab": {
          "base_uri": "https://localhost:8080/"
        },
        "id": "ZjTZ0rENz8Bt",
        "outputId": "95bcf6a9-7db0-4100-aaa4-f1a5db796a63"
      },
      "source": [
        "mylist = list(range(11))\n",
        "print(mylist)\n",
        "mylist[0::3]\n",
        "mylist[::-2]"
      ],
      "execution_count": null,
      "outputs": [
        {
          "output_type": "stream",
          "text": [
            "[0, 1, 2, 3, 4, 5, 6, 7, 8, 9, 10]\n"
          ],
          "name": "stdout"
        },
        {
          "output_type": "execute_result",
          "data": {
            "text/plain": [
              "[10, 8, 6, 4, 2, 0]"
            ]
          },
          "metadata": {
            "tags": []
          },
          "execution_count": 9
        }
      ]
    },
    {
      "cell_type": "code",
      "metadata": {
        "colab": {
          "base_uri": "https://localhost:8080/"
        },
        "id": "-ujj32KM1pjl",
        "outputId": "2f70b2b5-0474-4090-d718-5eacf2b2c1e2"
      },
      "source": [
        "my = list(range(1,11,2))\n",
        "print(my)"
      ],
      "execution_count": null,
      "outputs": [
        {
          "output_type": "stream",
          "text": [
            "[1, 3, 5, 7, 9]\n"
          ],
          "name": "stdout"
        }
      ]
    },
    {
      "cell_type": "code",
      "metadata": {
        "colab": {
          "base_uri": "https://localhost:8080/"
        },
        "id": "66vr_GAA9Z1K",
        "outputId": "58c8e22c-cccc-43a7-dc4a-f1122d167392"
      },
      "source": [
        "var_string = \"clarusWAY\"\n",
        "print(var_string.lower())\n",
        "var_string_1 = var_string.upper()\n",
        "print(var_string_1)\n",
        "print(\"clArUsWaY\".capitalize())"
      ],
      "execution_count": null,
      "outputs": [
        {
          "output_type": "stream",
          "text": [
            "clarusway\n",
            "CLARUSWAY\n",
            "Clarusway\n"
          ],
          "name": "stdout"
        }
      ]
    },
    {
      "cell_type": "code",
      "metadata": {
        "colab": {
          "base_uri": "https://localhost:8080/"
        },
        "id": "GoCkeG4LOMM0",
        "outputId": "6133d3de-1496-4b37-d6ad-97e0da8c5758"
      },
      "source": [
        "var_string = \"clarusWAY\"\n",
        "print(var_string.lower())\n",
        "var_string_1 = var_string.upper()\n",
        "print(var_string_1)\n",
        "print(\"ClArUsWaY\".swapcase())\n"
      ],
      "execution_count": null,
      "outputs": [
        {
          "output_type": "stream",
          "text": [
            "clarusway\n",
            "CLARUSWAY\n",
            "cLaRuSwAy\n"
          ],
          "name": "stdout"
        }
      ]
    },
    {
      "cell_type": "code",
      "metadata": {
        "colab": {
          "base_uri": "https://localhost:8080/"
        },
        "id": "Aasc2JFa9buY",
        "outputId": "ee50dfca-585a-4b21-a006-53f4436c3f18"
      },
      "source": [
        "var_str = \" In GOD we Trist\"\n",
        "var_str.lower()\n",
        "print(var_str.title())\n",
        "print(var_str.endswith(\"Ust\"))\n",
        "print(var_str.startswith(\"Ust\"))\n",
        "print(var_str.startswith(\"D\",6))\n",
        "print(var_str.endswith(\"T\",6,12))\n",
        "title_var = var_str.title()\n",
        "changed_str = title_var.replace(\"o\", \"oo\")\n",
        "print(changed_str)\n",
        "var_str_v = var_str.upper().replace(\"I\", \"t\")\n",
        "print(var_str_v)"
      ],
      "execution_count": null,
      "outputs": [
        {
          "output_type": "stream",
          "text": [
            " In God We Trist\n",
            "False\n",
            "False\n",
            "True\n",
            "True\n",
            " In Good We Trist\n",
            " tN GOD WE TRtST\n"
          ],
          "name": "stdout"
        }
      ]
    },
    {
      "cell_type": "code",
      "metadata": {
        "colab": {
          "base_uri": "https://localhost:8080/"
        },
        "id": "hiE7Jf799b04",
        "outputId": "ba3f385d-a2b6-4714-e55c-61acc75c8063"
      },
      "source": [
        "txt = \"S0d0me and G0more\"\n",
        "txt_1 = txt.replace(\"0\", \"o\")\n",
        "print(txt_1)"
      ],
      "execution_count": null,
      "outputs": [
        {
          "output_type": "stream",
          "text": [
            "Sodome and Gomore\n"
          ],
          "name": "stdout"
        }
      ]
    },
    {
      "cell_type": "code",
      "metadata": {
        "colab": {
          "base_uri": "https://localhost:8080/"
        },
        "id": "AYyIZj949b2r",
        "outputId": "efd9c0ee-f3e2-4dae-e804-eed34579c5ac"
      },
      "source": [
        "my_var = \"qq        listen first     qqqqq\"\n",
        "print(my_var)\n",
        "print(my_var.strip(\"q\"))\n",
        "print(my_var.strip(\" \"))\n",
        "print(my_var.strip(\"\"))\n",
        "print(my_var.strip())\n",
        "print(my_var.strip(\" q\"))\n",
        "print(my_var.strip(\"ql\"))\n",
        "print(my_var.strip(\"i eqlts\"))"
      ],
      "execution_count": null,
      "outputs": [
        {
          "output_type": "stream",
          "text": [
            "qq        listen first     qqqqq\n",
            "        listen first     \n",
            "qq        listen first     qqqqq\n",
            "qq        listen first     qqqqq\n",
            "qq        listen first     qqqqq\n",
            "listen first\n",
            "        listen first     \n",
            "n fir\n"
          ],
          "name": "stdout"
        }
      ]
    },
    {
      "cell_type": "code",
      "metadata": {
        "colab": {
          "base_uri": "https://localhost:8080/"
        },
        "id": "T44I1Cm29b5V",
        "outputId": "7cbbf9d3-8153-4d8d-bf8c-768598ba401d"
      },
      "source": [
        "our_var = \"interoperability\"\n",
        "print(our_var)\n",
        "print(our_var.rstrip(\"ni\"))\n",
        "print(our_var.lstrip(\"ni\"))\n",
        "print(our_var.strip(\"ni\"))"
      ],
      "execution_count": null,
      "outputs": [
        {
          "output_type": "stream",
          "text": [
            "interoperability\n",
            "interoperability\n",
            "teroperability\n",
            "teroperability\n"
          ],
          "name": "stdout"
        }
      ]
    },
    {
      "cell_type": "code",
      "metadata": {
        "colab": {
          "base_uri": "https://localhost:8080/"
        },
        "id": "Fu7oKhs49b8S",
        "outputId": "a568162b-479c-4bf8-ae3e-664dc5c5b569"
      },
      "source": [
        "my_str = \"       listen first     \"\n",
        "print(my_str)\n",
        "# print(space.rstrip(\"\"))"
      ],
      "execution_count": null,
      "outputs": [
        {
          "output_type": "stream",
          "text": [
            "       listen first     \n"
          ],
          "name": "stdout"
        }
      ]
    },
    {
      "cell_type": "markdown",
      "metadata": {
        "id": "47ujJWc6VRQs"
      },
      "source": [
        ""
      ]
    },
    {
      "cell_type": "code",
      "metadata": {
        "id": "cc17DmeB9cBA"
      },
      "source": [
        ""
      ],
      "execution_count": null,
      "outputs": []
    },
    {
      "cell_type": "code",
      "metadata": {
        "id": "AJ7elXF69b-w",
        "colab": {
          "base_uri": "https://localhost:8080/"
        },
        "outputId": "4487acd2-0c46-4e98-f2a7-c8473a849430"
      },
      "source": [
        "a = [\"a12 34q wer'^+%&/\", \"asdfgh!'''^+%\"]\n",
        "list (a)\n",
        "print(list(a))\n",
        "b =[a]\n",
        "print(b)"
      ],
      "execution_count": null,
      "outputs": [
        {
          "output_type": "stream",
          "text": [
            "[\"a12 34q wer'^+%&/\", \"asdfgh!'''^+%\"]\n",
            "[[\"a12 34q wer'^+%&/\", \"asdfgh!'''^+%\"]]\n"
          ],
          "name": "stdout"
        }
      ]
    },
    {
      "cell_type": "code",
      "metadata": {
        "id": "Zqqh9TIEWSgA"
      },
      "source": [
        "b = [a]"
      ],
      "execution_count": null,
      "outputs": []
    },
    {
      "cell_type": "code",
      "metadata": {
        "id": "r5CsxM-I9cDo",
        "colab": {
          "base_uri": "https://localhost:8080/"
        },
        "outputId": "c0ab5b7b-f3eb-4398-a3f9-2338a5bf79ef"
      },
      "source": [
        "a = \"2020's hard\"\n",
        "list(a)\n",
        "print(list(a))"
      ],
      "execution_count": null,
      "outputs": [
        {
          "output_type": "stream",
          "text": [
            "['2', '0', '2', '0', \"'\", 's', ' ', 'h', 'a', 'r', 'd']\n"
          ],
          "name": "stdout"
        }
      ]
    },
    {
      "cell_type": "code",
      "metadata": {
        "id": "nOmXYcuf9cHF",
        "colab": {
          "base_uri": "https://localhost:8080/"
        },
        "outputId": "d7f90930-0dfb-4273-92ec-6486638c932a"
      },
      "source": [
        "print(list(a))"
      ],
      "execution_count": null,
      "outputs": [
        {
          "output_type": "stream",
          "text": [
            "[\"2020's hard\"]\n"
          ],
          "name": "stdout"
        }
      ]
    },
    {
      "cell_type": "code",
      "metadata": {
        "id": "r5u6Zrt_9cJC",
        "colab": {
          "base_uri": "https://localhost:8080/"
        },
        "outputId": "db55f183-c6c8-44f4-d35d-34973d544cc9"
      },
      "source": [
        "text = \"the better THE family, the better THE society\"\n",
        "print(text.title())\n",
        "print(text.swapcase())\n",
        "print(text.lower())\n",
        "print(text.upper())"
      ],
      "execution_count": null,
      "outputs": [
        {
          "output_type": "stream",
          "text": [
            "The Better The Family, The Better The Society\n",
            "THE BETTER the FAMILY, THE BETTER the SOCIETY\n",
            "the better the family, the better the society\n",
            "THE BETTER THE FAMILY, THE BETTER THE SOCIETY\n"
          ],
          "name": "stdout"
        }
      ]
    },
    {
      "cell_type": "code",
      "metadata": {
        "id": "5iL0hnml9cOE",
        "colab": {
          "base_uri": "https://localhost:8080/"
        },
        "outputId": "2b7f20f3-506f-4241-9b26-0c6dad35b7cb"
      },
      "source": [
        "spk = \"test, cümlesi\"\n",
        "print(spk.swapcase().lower().capitalize())"
      ],
      "execution_count": null,
      "outputs": [
        {
          "output_type": "stream",
          "text": [
            "Test, cümlesi\n"
          ],
          "name": "stdout"
        }
      ]
    },
    {
      "cell_type": "code",
      "metadata": {
        "id": "GYqeHmvn9cTB",
        "colab": {
          "base_uri": "https://localhost:8080/"
        },
        "outputId": "93ae141b-2cc2-4659-eda3-0361edc0e7e7"
      },
      "source": [
        "jkl = \"s0d0me and G0m0re\"\n",
        "print(jkl.replace(\"0\", \"o\", 4).capitalize().title())"
      ],
      "execution_count": null,
      "outputs": [
        {
          "output_type": "stream",
          "text": [
            "Sodome And Gomore\n"
          ],
          "name": "stdout"
        }
      ]
    },
    {
      "cell_type": "code",
      "metadata": {
        "colab": {
          "base_uri": "https://localhost:8080/"
        },
        "id": "cMLSQwAMH0Mn",
        "outputId": "64c9aa7d-0d5f-4222-f729-360752192a31"
      },
      "source": [
        "example = \"snow world\"\n",
        "print(\"%s\" % example[4:7])\n"
      ],
      "execution_count": null,
      "outputs": [
        {
          "output_type": "stream",
          "text": [
            " wo\n"
          ],
          "name": "stdout"
        }
      ]
    },
    {
      "cell_type": "code",
      "metadata": {
        "colab": {
          "base_uri": "https://localhost:8080/"
        },
        "id": "0tlRqtkrHy5s",
        "outputId": "a837b570-fbe7-4bf0-fb57-5941704022cc"
      },
      "source": [
        "print(\"abcd\"[2:])"
      ],
      "execution_count": null,
      "outputs": [
        {
          "output_type": "stream",
          "text": [
            "cd\n"
          ],
          "name": "stdout"
        }
      ]
    },
    {
      "cell_type": "code",
      "metadata": {
        "colab": {
          "base_uri": "https://localhost:8080/"
        },
        "id": "CeRO6w8IwAvJ",
        "outputId": "a9f14922-55a5-4fb1-a6c1-13a7bf40c4f7"
      },
      "source": [
        "print(\"{0} {1} {2} {3} {4}\".format('I', 'will', 'find', 'a', 'job'))"
      ],
      "execution_count": null,
      "outputs": [
        {
          "output_type": "stream",
          "text": [
            "I will find a job\n"
          ],
          "name": "stdout"
        }
      ]
    },
    {
      "cell_type": "code",
      "metadata": {
        "colab": {
          "base_uri": "https://localhost:8080/"
        },
        "id": "Xli4aVqXy1qE",
        "outputId": "d4f40a1a-cf86-4069-b583-db495673982c"
      },
      "source": [
        "False and {0} or []"
      ],
      "execution_count": null,
      "outputs": [
        {
          "output_type": "execute_result",
          "data": {
            "text/plain": [
              "[]"
            ]
          },
          "metadata": {
            "tags": []
          },
          "execution_count": 56
        }
      ]
    },
    {
      "cell_type": "code",
      "metadata": {
        "colab": {
          "base_uri": "https://localhost:8080/"
        },
        "id": "pUGmXvCWqiUC",
        "outputId": "aefefdf3-5c76-4856-91af-65b3ff5e3749"
      },
      "source": [
        "print(\"1\"+\"2\")"
      ],
      "execution_count": null,
      "outputs": [
        {
          "output_type": "stream",
          "text": [
            "12\n"
          ],
          "name": "stdout"
        }
      ]
    },
    {
      "cell_type": "markdown",
      "metadata": {
        "id": "vChLYGOKzQOn"
      },
      "source": [
        ""
      ]
    },
    {
      "cell_type": "code",
      "metadata": {
        "colab": {
          "base_uri": "https://localhost:8080/"
        },
        "id": "p3Iqq1kCsEwd",
        "outputId": "aac75af6-163d-4cca-b5c8-8b2cc298bebe"
      },
      "source": [
        "number = str(\"20\")\n",
        "print(number + str(20))\n",
        "print(2020)"
      ],
      "execution_count": null,
      "outputs": [
        {
          "output_type": "stream",
          "text": [
            "2020\n",
            "2020\n"
          ],
          "name": "stdout"
        }
      ]
    },
    {
      "cell_type": "code",
      "metadata": {
        "colab": {
          "base_uri": "https://localhost:8080/"
        },
        "id": "M8_de2sJs3lO",
        "outputId": "aac75af6-163d-4cca-b5c8-8b2cc298bebe"
      },
      "source": [
        "number = str(\"20\")\n",
        "print(number + str(20))\n",
        "print(2020)"
      ],
      "execution_count": null,
      "outputs": [
        {
          "output_type": "stream",
          "text": [
            "2020\n",
            "2020\n"
          ],
          "name": "stdout"
        }
      ]
    },
    {
      "cell_type": "code",
      "metadata": {
        "colab": {
          "base_uri": "https://localhost:8080/"
        },
        "id": "wwxCqEbmImgh",
        "outputId": "7160169a-46db-474d-99b0-bd5688debffe"
      },
      "source": [
        "print(chr(ord('b')+1))\n"
      ],
      "execution_count": null,
      "outputs": [
        {
          "output_type": "stream",
          "text": [
            "c\n"
          ],
          "name": "stdout"
        }
      ]
    },
    {
      "cell_type": "code",
      "metadata": {
        "colab": {
          "base_uri": "https://localhost:8080/"
        },
        "id": "h3OFo2ycI4kB",
        "outputId": "7618ca2d-4d01-428b-db73-fa56e8080eb5"
      },
      "source": [
        "print(format(\"Welcome\", \"20s\"), end = '#')\n",
        "print(format(111, \"11d\"), end = '#')\n",
        "print(format(924.656, \"5.5f\"))"
      ],
      "execution_count": null,
      "outputs": [
        {
          "output_type": "stream",
          "text": [
            "Welcome             #        111#924.65600\n"
          ],
          "name": "stdout"
        }
      ]
    },
    {
      "cell_type": "code",
      "metadata": {
        "colab": {
          "base_uri": "https://localhost:8080/"
        },
        "id": "vDxKfT8SKsBQ",
        "outputId": "6ea2408c-ee13-415f-a59f-c01d0adb7bbe"
      },
      "source": [
        "print('*', \"abcdef\".center(7), '*')"
      ],
      "execution_count": null,
      "outputs": [
        {
          "output_type": "stream",
          "text": [
            "*  abcdef *\n"
          ],
          "name": "stdout"
        }
      ]
    },
    {
      "cell_type": "code",
      "metadata": {
        "colab": {
          "base_uri": "https://localhost:8080/"
        },
        "id": "-d8vuUO9K4OP",
        "outputId": "a1b1fb57-6705-4cf1-c44f-c57a19329e50"
      },
      "source": [
        "print(\"xyyzxyzxzxyy\".count('yy', 1))\n"
      ],
      "execution_count": null,
      "outputs": [
        {
          "output_type": "stream",
          "text": [
            "2\n"
          ],
          "name": "stdout"
        }
      ]
    },
    {
      "cell_type": "code",
      "metadata": {
        "colab": {
          "base_uri": "https://localhost:8080/"
        },
        "id": "xLsgk-dYLDUZ",
        "outputId": "30cfa9bc-efed-4584-a603-1339fe508ed6"
      },
      "source": [
        "print(\"xyyzxyzxzxyy\".endswith(\"xyy\", 0, 2))\n",
        "print(\"xyyzxyzxzxyy\".endswith(\"xyy\", 0, 3))\n",
        "print(\"xyyzxyzxzxyy\".endswith(\"xyy\", 9, 12))\n",
        "print(\"xyyzxyzxzxyy\".endswith(\"xyy\", -3, 12))\n",
        "print(\"xyyzxyzxzxyy\".endswith(\"xyy\", -12, -9))"
      ],
      "execution_count": null,
      "outputs": [
        {
          "output_type": "stream",
          "text": [
            "False\n",
            "True\n",
            "True\n",
            "True\n",
            "True\n"
          ],
          "name": "stdout"
        }
      ]
    },
    {
      "cell_type": "code",
      "metadata": {
        "colab": {
          "base_uri": "https://localhost:8080/"
        },
        "id": "L0qwEeoschHK",
        "outputId": "cdb356f2-17d9-4597-d252-164729189df3"
      },
      "source": [
        "a = 36.5\n",
        "b = '30'\n",
        "c = '3.5'\n",
        "d = ' F is enough for room temperature.'\n",
        "\n",
        "print(str(a+int(b)+float(c))+d)"
      ],
      "execution_count": null,
      "outputs": [
        {
          "output_type": "stream",
          "text": [
            "70.0 F is enough for room temperature.\n"
          ],
          "name": "stdout"
        }
      ]
    },
    {
      "cell_type": "code",
      "metadata": {
        "id": "90Be7BOWhlQe"
      },
      "source": [
        "test = 123456789\n",
        "print(test.startswith)"
      ],
      "execution_count": null,
      "outputs": []
    },
    {
      "cell_type": "code",
      "metadata": {
        "colab": {
          "base_uri": "https://localhost:8080/"
        },
        "id": "MVxaEvv_UGkZ",
        "outputId": "cd2d9b31-bb23-484f-b49c-c89e7889dcd8"
      },
      "source": [
        "var_1 = \"last\"\n",
        "var_2 = 43\n",
        "print(f\"my {var_1} age is {var_2}\")"
      ],
      "execution_count": null,
      "outputs": [
        {
          "output_type": "stream",
          "text": [
            "my last age is 43\n"
          ],
          "name": "stdout"
        }
      ]
    },
    {
      "cell_type": "code",
      "metadata": {
        "colab": {
          "base_uri": "https://localhost:8080/"
        },
        "id": "y7-VP9xFUHuZ",
        "outputId": "e267d8da-e13a-411e-aa86-5a9c3d1a76b6"
      },
      "source": [
        "fruit = \"Orange\"\n",
        "vegetable = \"Tomato\"\n",
        "amount = 6\n",
        "\n",
        "output = 'The amount of {fruit} and {vegetable} we bought are totally {amount} \\\n",
        "pounds'.format(fruit = \"Orange\", vegetable = \"Tomato\", amount = 6)\n",
        "\n",
        "output_1 = f'The amount of {fruit} and {vegetable} we bought are totally\\\n",
        " {amount} pounds'\n",
        "\n",
        "output_2 = \"The amount of {} and {} we bought are totally {} pounds\" \\\n",
        ".format(fruit, vegetable, amount)\n",
        "\n",
        "print(output)\n",
        "print(output_1)\n",
        "print(output_2)"
      ],
      "execution_count": null,
      "outputs": [
        {
          "output_type": "stream",
          "text": [
            "The amount of Orange and Tomato we bought are totally 6 pounds\n",
            "The amount of Orange and Tomato we bought are totally 6 pounds\n",
            "The amount of Orange and Tomato we bought are totally 6 pounds\n"
          ],
          "name": "stdout"
        }
      ]
    },
    {
      "cell_type": "code",
      "metadata": {
        "id": "Gml83BT4UHxt",
        "colab": {
          "base_uri": "https://localhost:8080/"
        },
        "outputId": "28d772cb-03f8-4aaa-ec4b-73ae233e499f"
      },
      "source": [
        "sample = f\"{2*3}\"\n",
        "print(sample)"
      ],
      "execution_count": null,
      "outputs": [
        {
          "output_type": "stream",
          "text": [
            "6\n"
          ],
          "name": "stdout"
        }
      ]
    },
    {
      "cell_type": "code",
      "metadata": {
        "id": "ILwlUQlcUH0z",
        "colab": {
          "base_uri": "https://localhost:8080/"
        },
        "outputId": "3c2862c5-ea5b-4040-bc13-695e1271668c"
      },
      "source": [
        "sample = f\"two to power three is : {2-3}\"\n",
        "sample_1 = \"two to power three is : {2*3}\"\n",
        "sample_2 = f\"......:{2 ** 3}\"\n",
        "print(sample)\n",
        "print(sample_1)\n",
        "print(sample_2)"
      ],
      "execution_count": null,
      "outputs": [
        {
          "output_type": "stream",
          "text": [
            "two to power three is : -1\n",
            "two to power three is : {2*3}\n",
            "......:8\n"
          ],
          "name": "stdout"
        }
      ]
    },
    {
      "cell_type": "code",
      "metadata": {
        "colab": {
          "base_uri": "https://localhost:8080/"
        },
        "id": "-ybheKhw3sGa",
        "outputId": "82e98575-2f63-47b4-d0cc-92345d5670b3"
      },
      "source": [
        "var1 = \"sleep\"\n",
        "var2 = \"eat\"\n",
        "var3 = \"better\"\n",
        "var4 = \"life\"\n",
        "output = 'Then less you {var1} and {var2}, the {var3} your {var4} will be.'.format(var1 = \"sleep\", var2 = \"eat\", var3 = \"better\", var4 = \"life\")\n",
        "print(output)"
      ],
      "execution_count": null,
      "outputs": [
        {
          "output_type": "stream",
          "text": [
            "Then less you sleep and eat, the better your life will be.\n"
          ],
          "name": "stdout"
        }
      ]
    },
    {
      "cell_type": "code",
      "metadata": {
        "colab": {
          "base_uri": "https://localhost:8080/"
        },
        "id": "fTHE-xBa4z8z",
        "outputId": "365b915a-6231-412a-bacf-bc8f71a590ea"
      },
      "source": [
        "var1 = \"sleep\"\n",
        "var2 = \"eat\"\n",
        "var3 = \"better\"\n",
        "var4 = \"life\"\n",
        "output = f'Then less you {var1} and {var2}, the {var3} your {var4} will be.'\n",
        "print(output)"
      ],
      "execution_count": null,
      "outputs": [
        {
          "output_type": "stream",
          "text": [
            "Then less you sleep and eat, the better your life will be.\n"
          ],
          "name": "stdout"
        }
      ]
    },
    {
      "cell_type": "code",
      "metadata": {
        "id": "Q0XmS54MUH3U",
        "colab": {
          "base_uri": "https://localhost:8080/"
        },
        "outputId": "bd949c20-0d24-4a34-e133-35887112e6c4"
      },
      "source": [
        "name = \"MARIAM\"\n",
        "name_1 = \"MARIAM and Meryem are similar names İN DİFFERENT LANGUAGES\"\n",
        "name_2 = \"mariam\"\n",
        "output = f\"My name is {name.capitalize()}\"\n",
        "output_1 = f\"My name is {name_1.capitalize()}\"\n",
        "output_2 = f\"My name is {name.lower()}\"\n",
        "output_3 = f\"My name is {name.upper()}\"\n",
        "print(output)\n",
        "print(f\"My name is {name.capitalize()}\")\n",
        "print(output_1)\n",
        "print(output_2)\n",
        "print(output_3)"
      ],
      "execution_count": null,
      "outputs": [
        {
          "output_type": "stream",
          "text": [
            "My name is Mariam\n",
            "My name is Mariam\n",
            "My name is Mariam and meryem are similar names i̇n di̇fferent languages\n",
            "My name is mariam\n",
            "My name is MARIAM\n"
          ],
          "name": "stdout"
        }
      ]
    },
    {
      "cell_type": "code",
      "metadata": {
        "colab": {
          "base_uri": "https://localhost:8080/"
        },
        "id": "4PbkxfD7YCuK",
        "outputId": "df53523e-52b2-4d6b-8c37-a0af549d5f62"
      },
      "source": [
        "print('*', \"abcdef\".center(6), '*')\n"
      ],
      "execution_count": null,
      "outputs": [
        {
          "output_type": "stream",
          "text": [
            "* abcdef *\n"
          ],
          "name": "stdout"
        }
      ]
    },
    {
      "cell_type": "code",
      "metadata": {
        "colab": {
          "base_uri": "https://localhost:8080/"
        },
        "id": "GWExfjcvaAq4",
        "outputId": "40f592b7-02f3-45ff-d88f-e125b2b3e0a5"
      },
      "source": [
        "print(\"xyyzxyyzxzxyy\".count('yy', 9, 13)) # print(\"xyyzxyzxzxyy\".count('yy', 1))\n"
      ],
      "execution_count": null,
      "outputs": [
        {
          "output_type": "stream",
          "text": [
            "1\n"
          ],
          "name": "stdout"
        }
      ]
    },
    {
      "cell_type": "code",
      "metadata": {
        "id": "wcPUjO9wUH5n",
        "colab": {
          "base_uri": "https://localhost:8080/"
        },
        "outputId": "a4f9ffb7-271e-42d1-8e57-8237f0d2d6c1"
      },
      "source": [
        "name = \"Joseph\"\n",
        "job = \"teachers\"\n",
        "domain = \"Data Science\"\n",
        "message = (\n",
        "    f\"Hi {name}. \"\n",
        "    f\"You are one of the {job} \"\n",
        "    f\"in the {domain} section.\"\n",
        ")\n",
        "\n",
        "print(message)"
      ],
      "execution_count": null,
      "outputs": [
        {
          "output_type": "stream",
          "text": [
            "Hi Joseph. You are one of the teachers in the Data Science section.\n"
          ],
          "name": "stdout"
        }
      ]
    },
    {
      "cell_type": "code",
      "metadata": {
        "id": "T-K38gofUH8X",
        "colab": {
          "base_uri": "https://localhost:8080/"
        },
        "outputId": "0df3f092-d59d-42be-b82e-345e4d576c9b"
      },
      "source": [
        "name = \"Joseph\"\n",
        "job = \"teachers\"\n",
        "domain = \"Data Science\"\n",
        "message = f\"Hi {name}. \" \\\n",
        "    f\"You are one of the {job} \" \\\n",
        "    f\"in the {domain} section.\"\n",
        "print(message)"
      ],
      "execution_count": null,
      "outputs": [
        {
          "output_type": "stream",
          "text": [
            "Hi Joseph. You are one of the teachers in the Data Science section.\n"
          ],
          "name": "stdout"
        }
      ]
    },
    {
      "cell_type": "code",
      "metadata": {
        "id": "eU0dFjTfUH-5",
        "colab": {
          "base_uri": "https://localhost:8080/"
        },
        "outputId": "6a7c3cbb-2cf9-4e2f-9855-4643587105e6"
      },
      "source": [
        "name = \"Joseph\"\n",
        "job = \"teachers\"\n",
        "domain = \"Data Science\"\n",
        "message = (\n",
        "    f\"Hi {name}. \\n\" \n",
        "    f\"You are \\n one of the {job} \" \n",
        "    f\"in the {domain} section.\"\n",
        ")\n",
        "print(message)"
      ],
      "execution_count": null,
      "outputs": [
        {
          "output_type": "stream",
          "text": [
            "Hi Joseph. \n",
            "You are \n",
            " one of the teachers in the Data Science section.\n"
          ],
          "name": "stdout"
        }
      ]
    },
    {
      "cell_type": "code",
      "metadata": {
        "id": "OVET1GkxUIB3",
        "colab": {
          "base_uri": "https://localhost:8080/"
        },
        "outputId": "01151f98-7596-4430-d8ff-326e9fc5fa45"
      },
      "source": [
        "var_string = \"ClarusWay\"\n",
        "print(var_string.lower())\n",
        "print(var_string)\n",
        "var_string = \"ClarusWay\".lower()\n",
        "print(var_string) "
      ],
      "execution_count": null,
      "outputs": [
        {
          "output_type": "stream",
          "text": [
            "clarusway\n",
            "ClarusWay\n",
            "clarusway\n"
          ],
          "name": "stdout"
        }
      ]
    },
    {
      "cell_type": "code",
      "metadata": {
        "id": "MhWA7cKZUIEO",
        "colab": {
          "base_uri": "https://localhost:8080/"
        },
        "outputId": "3b1ea7bb-f226-4118-d595-3131112b6711"
      },
      "source": [
        "var_str = \"ClarusWAY\"\n",
        "print(var_str)\n",
        "print(var_str.capitalize())\n",
        "print(var_str)\n",
        "print(var_str.lower())\n",
        "print(var_str.upper())\n",
        "var_str = \"here is another string\"\n",
        "print(var_str)"
      ],
      "execution_count": null,
      "outputs": [
        {
          "output_type": "stream",
          "text": [
            "ClarusWAY\n",
            "Clarusway\n",
            "ClarusWAY\n",
            "clarusway\n",
            "CLARUSWAY\n",
            "here is another string\n"
          ],
          "name": "stdout"
        }
      ]
    },
    {
      "cell_type": "code",
      "metadata": {
        "id": "NtwfbrQSUIG2",
        "colab": {
          "base_uri": "https://localhost:8080/"
        },
        "outputId": "324675ce-98f8-411f-8177-a3aac5ff3848"
      },
      "source": [
        "var_tr = \"ın God WE tRUST\"\n",
        "print(var_tr.upper())\n",
        "print(f\"{var_tr.upper()}\")\n",
        "print(var_tr)\n",
        "var_tr = var_tr.upper()\n",
        "print(var_tr)"
      ],
      "execution_count": null,
      "outputs": [
        {
          "output_type": "stream",
          "text": [
            "IN GOD WE TRUST\n",
            "IN GOD WE TRUST\n",
            "ın God WE tRUST\n",
            "IN GOD WE TRUST\n"
          ],
          "name": "stdout"
        }
      ]
    },
    {
      "cell_type": "markdown",
      "metadata": {
        "id": "YPVTlQNjDa6U"
      },
      "source": [
        ""
      ]
    },
    {
      "cell_type": "code",
      "metadata": {
        "id": "hS-_aE-TUIJy",
        "colab": {
          "base_uri": "https://localhost:8080/"
        },
        "outputId": "5c74db5a-9f66-44aa-c246-adc212aefc1f"
      },
      "source": [
        "text = \"www.clarusway.com\"\n",
        "print(text.endswith(\".com\"))\n",
        "print(text.endswith(\".co\"))\n",
        "print(text.endswith(\"om\"))\n",
        "print(text.startswith(\"http\"))\n",
        "print(text.startswith(\"ww\"))"
      ],
      "execution_count": null,
      "outputs": [
        {
          "output_type": "stream",
          "text": [
            "True\n",
            "False\n",
            "True\n",
            "False\n",
            "True\n"
          ],
          "name": "stdout"
        }
      ]
    },
    {
      "cell_type": "code",
      "metadata": {
        "id": "HSLvE7sJUIMb",
        "colab": {
          "base_uri": "https://localhost:8080/"
        },
        "outputId": "844da8b1-f8b4-4d2a-91db-1cd9ec89241e"
      },
      "source": [
        "email = \"clarusway@clarusway.com is my e-mail address\"\n",
        "test = \"123456789\"\n",
        "print(test.startswith(\"2345678\", 1))\n",
        "print(test.endswith(\"6\", 3, 6))\n",
        "print(email.startswith(\"@\", 9))\n",
        "print(email.endswith(\".\", 10, 32))"
      ],
      "execution_count": null,
      "outputs": [
        {
          "output_type": "stream",
          "text": [
            "True\n",
            "True\n",
            "True\n",
            "False\n"
          ],
          "name": "stdout"
        }
      ]
    },
    {
      "cell_type": "code",
      "metadata": {
        "id": "ddjqRVg5UIO9",
        "colab": {
          "base_uri": "https://localhost:8080/"
        },
        "outputId": "e6785b18-7001-4525-f0ad-53b807383778"
      },
      "source": [
        "print(\"15.000$\" .endswith(\"$\"))"
      ],
      "execution_count": null,
      "outputs": [
        {
          "output_type": "stream",
          "text": [
            "True\n"
          ],
          "name": "stdout"
        }
      ]
    },
    {
      "cell_type": "code",
      "metadata": {
        "id": "YhdteN7YUISH",
        "colab": {
          "base_uri": "https://localhost:8080/"
        },
        "outputId": "2dd021a9-4539-413f-b4bc-774cec0eb62d"
      },
      "source": [
        "sentence = \"I liVe and wOrk iN ErzUrum\"\n",
        "print(sentence.upper())\n",
        "print(sentence.lower())\n",
        "print(sentence.swapcase())\n",
        "print(sentence)\n"
      ],
      "execution_count": null,
      "outputs": [
        {
          "output_type": "stream",
          "text": [
            "I LIVE AND WORK IN ERZURUM\n",
            "i live and work in erzurum\n",
            "i LIvE AND WoRK In eRZuRUM\n",
            "I liVe and wOrk iN ErzUrum\n"
          ],
          "name": "stdout"
        }
      ]
    },
    {
      "cell_type": "code",
      "metadata": {
        "colab": {
          "base_uri": "https://localhost:8080/"
        },
        "id": "FPd3GJ9IYKm2",
        "outputId": "ee2896f0-3be8-4bdd-84e8-f9a31484c16d"
      },
      "source": [
        "title_sentence = sentence.title()\n",
        "print(title_sentence)\n",
        "change_sentence = sentence.replace(\"i\", \"*\")\n",
        "print(change_sentence)"
      ],
      "execution_count": null,
      "outputs": [
        {
          "output_type": "stream",
          "text": [
            "I Live And Work In Erzurum\n",
            "I l*Ve and wOrk *N ErzUrum\n"
          ],
          "name": "stdout"
        }
      ]
    },
    {
      "cell_type": "code",
      "metadata": {
        "id": "lVFERYtQUIVq",
        "colab": {
          "base_uri": "https://localhost:8080/"
        },
        "outputId": "1d4bc338-27ac-42d2-e232-692d7a027038"
      },
      "source": [
        "print(not 0 and (\"write me\"))"
      ],
      "execution_count": null,
      "outputs": [
        {
          "output_type": "stream",
          "text": [
            "write me\n"
          ],
          "name": "stdout"
        }
      ]
    },
    {
      "cell_type": "code",
      "metadata": {
        "id": "NKIkxyBhUIZl",
        "colab": {
          "base_uri": "https://localhost:8080/"
        },
        "outputId": "de606ad1-7375-41e7-d33b-c5e9746385d9"
      },
      "source": [
        "text = \"0sd0me0\"\n",
        "text = text.replace( \"0\", \"o\", 3)\n",
        "print(text)"
      ],
      "execution_count": null,
      "outputs": [
        {
          "output_type": "stream",
          "text": [
            "osdomeo\n"
          ],
          "name": "stdout"
        }
      ]
    },
    {
      "cell_type": "code",
      "metadata": {
        "colab": {
          "base_uri": "https://localhost:8080/"
        },
        "id": "RllxIsySXrcA",
        "outputId": "40e67244-6ca7-4c67-992f-3ceed2be63a0"
      },
      "source": [
        "ornek = \"ee e e    başında ve sonunda buluk olan bir cümle...    eee\"\n",
        "print(ornek)\n",
        "print(ornek.strip(\"eee\"))"
      ],
      "execution_count": null,
      "outputs": [
        {
          "output_type": "stream",
          "text": [
            "ee e e    başında ve sonunda buluk olan bir cümle...    eee\n",
            " e e    başında ve sonunda buluk olan bir cümle...    \n"
          ],
          "name": "stdout"
        }
      ]
    },
    {
      "cell_type": "code",
      "metadata": {
        "colab": {
          "base_uri": "https://localhost:8080/"
        },
        "id": "tERlcpGiY2Bm",
        "outputId": "928ab56d-f6ec-4140-b3f5-29163ff6dfdf"
      },
      "source": [
        "ornek = \"tinteroperabilityz\"\n",
        "print(ornek.strip(\"tz\").upper())\n",
        "print(ornek.upper().strip(\"TZ\"))\n",
        "a = ornek.strip()\n",
        "b = a.strip(\"tz\")\n",
        "c = b.upper()\n",
        "print(c)"
      ],
      "execution_count": null,
      "outputs": [
        {
          "output_type": "stream",
          "text": [
            "INTEROPERABILITY\n",
            "INTEROPERABILITY\n",
            "INTEROPERABILITY\n"
          ],
          "name": "stdout"
        }
      ]
    },
    {
      "cell_type": "code",
      "metadata": {
        "colab": {
          "base_uri": "https://localhost:8080/",
          "height": 130
        },
        "id": "kUJ_D_27gI5R",
        "outputId": "440bd051-4988-49df-94ce-6226db4c14aa"
      },
      "source": [
        "type = 'In God wee Trust'\n",
        "print(text_4.replace(\"ee\", \"e\")"
      ],
      "execution_count": null,
      "outputs": [
        {
          "output_type": "error",
          "ename": "SyntaxError",
          "evalue": "ignored",
          "traceback": [
            "\u001b[0;36m  File \u001b[0;32m\"<ipython-input-57-50966f9e9ca6>\"\u001b[0;36m, line \u001b[0;32m2\u001b[0m\n\u001b[0;31m    print(text_4.replace(\"ee\", \"e\")\u001b[0m\n\u001b[0m                                   ^\u001b[0m\n\u001b[0;31mSyntaxError\u001b[0m\u001b[0;31m:\u001b[0m unexpected EOF while parsing\n"
          ]
        }
      ]
    },
    {
      "cell_type": "code",
      "metadata": {
        "id": "z7GYGdaieNCL"
      },
      "source": [
        "ornek = \"tinteroperabilityk\"\n",
        "print(ornek.strip(\"yin\"))\n",
        "print(ornek.rstrip(\"inyt\"))"
      ],
      "execution_count": null,
      "outputs": []
    },
    {
      "cell_type": "code",
      "metadata": {
        "colab": {
          "base_uri": "https://localhost:8080/"
        },
        "id": "BxztNZd17Sen",
        "outputId": "77c916aa-9b82-48e5-91a1-86dfc7484132"
      },
      "source": [
        "A = 1000  # Amount\n",
        "r = 0.07  # Rate\n",
        "B = A + (A * r)  # First day\n",
        "B += (B * r)  # Second day\n",
        "B += (B * r)  # Third day\n",
        "B += (B * r)  # Fourth day\n",
        "B += (B * r)  # Fifth day\n",
        "B += (B * r)  # Sixth day\n",
        "B += (B * r)  # Seventh day\n",
        "print(B)"
      ],
      "execution_count": null,
      "outputs": [
        {
          "output_type": "stream",
          "text": [
            "1605.78147647843\n"
          ],
          "name": "stdout"
        }
      ]
    },
    {
      "cell_type": "code",
      "metadata": {
        "id": "7zR5VDoZAiM4"
      },
      "source": [
        "7{[]}\\\\}\\\\"
      ],
      "execution_count": null,
      "outputs": []
    },
    {
      "cell_type": "code",
      "metadata": {
        "id": "1fXzogWmFROr",
        "colab": {
          "base_uri": "https://localhost:8080/"
        },
        "outputId": "ebf49d5d-378b-4ebb-eaeb-a298725e5069"
      },
      "source": [
        "P = 1000  # Amount\n",
        "r = 7  # Rate\n",
        "t = 7  # Time\n",
        "A = P*(1+r/100)**t\n",
        "print(A)"
      ],
      "execution_count": null,
      "outputs": [
        {
          "output_type": "stream",
          "text": [
            "1605.7814764784307\n"
          ],
          "name": "stdout"
        }
      ]
    }
  ]
}