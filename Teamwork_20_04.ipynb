{
  "nbformat": 4,
  "nbformat_minor": 0,
  "metadata": {
    "colab": {
      "name": "Teamwork/20.04.ipynb",
      "provenance": [],
      "authorship_tag": "ABX9TyOojwypVbuH97TtcWs5VqlF",
      "include_colab_link": true
    },
    "kernelspec": {
      "name": "python3",
      "display_name": "Python 3"
    },
    "language_info": {
      "name": "python"
    }
  },
  "cells": [
    {
      "cell_type": "markdown",
      "metadata": {
        "id": "view-in-github",
        "colab_type": "text"
      },
      "source": [
        "<a href=\"https://colab.research.google.com/github/Jason-hub77/04082021_phyton_project_2/blob/main/Teamwork_20_04.ipynb\" target=\"_parent\"><img src=\"https://colab.research.google.com/assets/colab-badge.svg\" alt=\"Open In Colab\"/></a>"
      ]
    },
    {
      "cell_type": "code",
      "metadata": {
        "colab": {
          "base_uri": "https://localhost:8080/"
        },
        "id": "ewAQ2A8Wz5h1",
        "outputId": "520f9406-a453-42b2-97a3-873d0790bfb4"
      },
      "source": [
        "a = []\n",
        "n= int(input(\"Enter number of elements:\"))"
      ],
      "execution_count": 30,
      "outputs": [
        {
          "output_type": "stream",
          "text": [
            "Enter number of elements:23\n"
          ],
          "name": "stdout"
        }
      ]
    },
    {
      "cell_type": "code",
      "metadata": {
        "colab": {
          "base_uri": "https://localhost:8080/"
        },
        "id": "Lb2kBS390WLA",
        "outputId": "512363bf-8ecc-46e4-af14-bf2b8186e6d9"
      },
      "source": [
        "a = []\n",
        "n= int(input(\"Enter number of elements:\"))\n",
        "for i in range(n):\n",
        "    b = int(input(\"Enter element:\"))\n",
        "    a.append(b)\n",
        "print(a)"
      ],
      "execution_count": 34,
      "outputs": [
        {
          "output_type": "stream",
          "text": [
            "Enter number of elements:3\n",
            "Enter element:22\n",
            "Enter element:33\n",
            "Enter element:44\n",
            "[22, 33, 44]\n"
          ],
          "name": "stdout"
        }
      ]
    },
    {
      "cell_type": "code",
      "metadata": {
        "colab": {
          "base_uri": "https://localhost:8080/"
        },
        "id": "dD7braryvN-N",
        "outputId": "31671412-683d-4946-dc2b-d49123f25435"
      },
      "source": [
        "a = []\n",
        "n= int(input(\"Enter number of elements:\"))\n",
        "for i in range(1, n+1):\n",
        "    b = int(input(\"Enter element:\"))\n",
        "    a.append(b)\n",
        "a.sort()\n",
        "print(a)"
      ],
      "execution_count": 27,
      "outputs": [
        {
          "output_type": "stream",
          "text": [
            "Enter number of elements:3\n",
            "Enter element:44\n",
            "Enter element:55\n",
            "Enter element:66\n",
            "[44, 55, 66]\n"
          ],
          "name": "stdout"
        }
      ]
    },
    {
      "cell_type": "code",
      "metadata": {
        "colab": {
          "base_uri": "https://localhost:8080/"
        },
        "id": "sm-d2KW5vN6t",
        "outputId": "a96d95e6-9acb-4f35-ad36-d511d45a1fb7"
      },
      "source": [
        "a = []\n",
        "n= int(input(\"Enter number of elements:\"))\n",
        "for i in range(1, n+1):\n",
        "    b = int(input(\"Enter element:\"))\n",
        "    a.append(b)\n",
        "a.sort()\n",
        "print(\"Largest elements is:\", a[n-1])"
      ],
      "execution_count": 26,
      "outputs": [
        {
          "output_type": "stream",
          "text": [
            "Enter number of elements:4\n",
            "Enter element:33\n",
            "Enter element:44\n",
            "Enter element:55\n",
            "Enter element:66\n",
            "Largest elements is: 66\n"
          ],
          "name": "stdout"
        }
      ]
    },
    {
      "cell_type": "code",
      "metadata": {
        "id": "9QvVNvspvOBk"
      },
      "source": [
        "a = []\n",
        "n= int(input(\"Enter number of elements:\"))\n",
        "for i in range(1, n+1):\n",
        "    b = int(input(\"Enter element:\"))\n",
        "    a.append(b)\n",
        "a.sort()\n",
        "print(a)"
      ],
      "execution_count": null,
      "outputs": []
    },
    {
      "cell_type": "code",
      "metadata": {
        "colab": {
          "base_uri": "https://localhost:8080/"
        },
        "id": "W8r-DdJNvOEi",
        "outputId": "b3c9b505-306c-42d1-b709-1a7d5e1120e6"
      },
      "source": [
        "a = []\n",
        "n= int(input(\"Enter number of elements:\"))\n",
        "for i in range(1, n+1):\n",
        "    b = int(input(\"Enter element:\"))\n",
        "    a.append(b)\n",
        "a.sort()\n",
        "print(\"Largest elements is:\", a[n-1])"
      ],
      "execution_count": 29,
      "outputs": [
        {
          "output_type": "stream",
          "text": [
            "Enter number of elements:5\n",
            "Enter element:22\n",
            "Enter element:33\n",
            "Enter element:44\n",
            "Enter element:55\n",
            "Enter element:66\n",
            "Largest elements is: 66\n"
          ],
          "name": "stdout"
        }
      ]
    },
    {
      "cell_type": "code",
      "metadata": {
        "id": "ZfhnjI2JvOGt"
      },
      "source": [
        ""
      ],
      "execution_count": null,
      "outputs": []
    },
    {
      "cell_type": "code",
      "metadata": {
        "id": "3H2ZU6UXvOI_"
      },
      "source": [
        ""
      ],
      "execution_count": null,
      "outputs": []
    },
    {
      "cell_type": "code",
      "metadata": {
        "id": "Oxy8Y0h1vOMN"
      },
      "source": [
        ""
      ],
      "execution_count": null,
      "outputs": []
    },
    {
      "cell_type": "code",
      "metadata": {
        "id": "OgNU76gZvOOX"
      },
      "source": [
        ""
      ],
      "execution_count": null,
      "outputs": []
    },
    {
      "cell_type": "code",
      "metadata": {
        "id": "ffA44mX_vORJ"
      },
      "source": [
        ""
      ],
      "execution_count": null,
      "outputs": []
    },
    {
      "cell_type": "code",
      "metadata": {
        "id": "ViIyzZCTvOVt"
      },
      "source": [
        ""
      ],
      "execution_count": null,
      "outputs": []
    },
    {
      "cell_type": "code",
      "metadata": {
        "id": "pna6txz0vOY5"
      },
      "source": [
        ""
      ],
      "execution_count": null,
      "outputs": []
    },
    {
      "cell_type": "code",
      "metadata": {
        "id": "6Wu1yfQfvObq"
      },
      "source": [
        ""
      ],
      "execution_count": null,
      "outputs": []
    },
    {
      "cell_type": "code",
      "metadata": {
        "id": "MdRGZGMxvOgg"
      },
      "source": [
        ""
      ],
      "execution_count": null,
      "outputs": []
    },
    {
      "cell_type": "code",
      "metadata": {
        "id": "jXIWRfyBvOjt"
      },
      "source": [
        ""
      ],
      "execution_count": null,
      "outputs": []
    },
    {
      "cell_type": "code",
      "metadata": {
        "colab": {
          "base_uri": "https://localhost:8080/"
        },
        "id": "O6LE0IH6pKBg",
        "outputId": "e483d138-cdee-4176-ccb2-c43e6e894121"
      },
      "source": [
        "liste=[\"eat\", \"tea\", \"tan\", \"ate\", \"nat\", \"bat\"]\n",
        "sorted_list=[]\n",
        "for i in liste:\n",
        "  if sorted(i) not in sorted_list:\n",
        "    sorted_list.append(sorted(i))\n",
        "print(sorted_list)"
      ],
      "execution_count": 19,
      "outputs": [
        {
          "output_type": "stream",
          "text": [
            "[['a', 'e', 't'], ['a', 'n', 't'], ['a', 'b', 't']]\n"
          ],
          "name": "stdout"
        }
      ]
    },
    {
      "cell_type": "code",
      "metadata": {
        "id": "O4BQ9HsvpKaZ",
        "colab": {
          "base_uri": "https://localhost:8080/"
        },
        "outputId": "b18066e1-4f1d-4b41-83ad-0add02be0040"
      },
      "source": [
        "liste=[\"eat\", \"tea\", \"tan\", \"ate\", \"nat\", \"bat\"]\n",
        "sorted_list=[]\n",
        "sonuc=[]\n",
        "for i in liste:\n",
        "  if sorted(i) not in sorted_list:\n",
        "    sorted_list.append(sorted(i))\n",
        "for a in range(len(sorted_list)):\n",
        "  sonuc.append([i for i in liste if sorted(i)==sorted_list[a]])\n",
        "print(sonuc)"
      ],
      "execution_count": 6,
      "outputs": [
        {
          "output_type": "stream",
          "text": [
            "[['eat', 'tea', 'ate'], ['tan', 'nat'], ['bat']]\n"
          ],
          "name": "stdout"
        }
      ]
    },
    {
      "cell_type": "code",
      "metadata": {
        "id": "xSZgZwA-pKfT",
        "colab": {
          "base_uri": "https://localhost:8080/"
        },
        "outputId": "d7c37adb-be61-445b-9bc5-1a969cf012cd"
      },
      "source": [
        "liste=[\"eat\", \"tea\"]\n",
        "sorted_list=[]\n",
        "for i in liste:\n",
        "  if sorted(i) not in sorted_list:\n",
        "    sorted_list.append(sorted(i))\n",
        "print(sorted_list)"
      ],
      "execution_count": 8,
      "outputs": [
        {
          "output_type": "stream",
          "text": [
            "[['a', 'e', 't']]\n"
          ],
          "name": "stdout"
        }
      ]
    },
    {
      "cell_type": "code",
      "metadata": {
        "id": "YRAgMajmpKis",
        "colab": {
          "base_uri": "https://localhost:8080/"
        },
        "outputId": "27edf5c1-2c5a-4c85-da3a-083a7355aa6a"
      },
      "source": [
        "liste=[\"eat\", \"tea\", \"tan\", \"ate\", \"nat\", \"bat\"]\n",
        "sorted_list=[['a', 'e', 't'], ['a', 'n', 't'], ['a', 'b', 't']]\n",
        "sonuc=[]\n",
        "for a in range(len(sorted_list)):\n",
        "  sonuc.append([i for i in liste if sorted(i)==sorted_list[a]])\n",
        "print(sonuc)"
      ],
      "execution_count": 9,
      "outputs": [
        {
          "output_type": "stream",
          "text": [
            "[['eat', 'tea', 'ate'], ['tan', 'nat'], ['bat']]\n"
          ],
          "name": "stdout"
        }
      ]
    },
    {
      "cell_type": "code",
      "metadata": {
        "id": "TOyhoO_4pKlC",
        "colab": {
          "base_uri": "https://localhost:8080/"
        },
        "outputId": "11e14644-9588-4a7d-b3bd-4ec9758bfab6"
      },
      "source": [
        "liste=[\"eat\", \"tea\", \"tan\", \"ate\", \"nat\"]\n",
        "sorted_list=[['a', 'e', 't'], ['a', 'n', 't'], ['a', 'b', 't']]\n",
        "sonuc=[]\n",
        "for a in range(len(sorted_list)):\n",
        "  sonuc.append([i for i in liste if sorted(i)==sorted_list[a]])\n",
        "print(sonuc)"
      ],
      "execution_count": 10,
      "outputs": [
        {
          "output_type": "stream",
          "text": [
            "[['eat', 'tea', 'ate'], ['tan', 'nat'], []]\n"
          ],
          "name": "stdout"
        }
      ]
    },
    {
      "cell_type": "code",
      "metadata": {
        "colab": {
          "base_uri": "https://localhost:8080/"
        },
        "id": "SW1Ij-rMt7sA",
        "outputId": "05618354-89b5-484e-d026-c834a3097949"
      },
      "source": [
        "strs = [\"eat\", \"tea\", \"tan\", \"ate\", \"nat\", \"bat\", \"cat\", \"tac\"]\n",
        "anag = {}\n",
        "for i in strs:\n",
        "    element = \"\".join(sorted(i))\n",
        "    if element in anag:\n",
        "        anag[element].append(i)\n",
        "    else:\n",
        "        anag[element] = [i]\n",
        "print(list(anag.values()))\n",
        "[['eat', 'tea', 'ate'], ['tan', 'nat'], ['bat'], ['cat', 'tac']]"
      ],
      "execution_count": 11,
      "outputs": [
        {
          "output_type": "stream",
          "text": [
            "[['eat', 'tea', 'ate'], ['tan', 'nat'], ['bat'], ['cat', 'tac']]\n"
          ],
          "name": "stdout"
        },
        {
          "output_type": "execute_result",
          "data": {
            "text/plain": [
              "[['eat', 'tea', 'ate'], ['tan', 'nat'], ['bat'], ['cat', 'tac']]"
            ]
          },
          "metadata": {
            "tags": []
          },
          "execution_count": 11
        }
      ]
    },
    {
      "cell_type": "code",
      "metadata": {
        "colab": {
          "base_uri": "https://localhost:8080/"
        },
        "id": "teGkKVrpt7vp",
        "outputId": "2a6c61b0-7637-4e36-c28c-81b29260d711"
      },
      "source": [
        "strs = [\"eat\", \"tea\", \"tan\", \"ate\", \"nat\", \"bat\", \"cat\", \"tac\"]\n",
        "anag = {}\n",
        "for i in strs:\n",
        "    element = \"\".join(sorted(i))\n",
        "print(element)\n",
        "print(anag)"
      ],
      "execution_count": 13,
      "outputs": [
        {
          "output_type": "stream",
          "text": [
            "act\n",
            "{}\n"
          ],
          "name": "stdout"
        }
      ]
    },
    {
      "cell_type": "code",
      "metadata": {
        "colab": {
          "base_uri": "https://localhost:8080/"
        },
        "id": "x9d3rOJRt717",
        "outputId": "26141848-b76c-4eb5-b6b7-967aaa6a5fa5"
      },
      "source": [
        "strs = [\"eat\", \"tea\", \"tan\", \"ate\", \"nat\", \"bat\", \"cat\", \"tac\"]\n",
        "anag = {}\n",
        "for i in strs:\n",
        "    element = \"\".join(sorted(i))\n",
        "    if element in anag:\n",
        "        anag[element].append(i)\n",
        "    else:\n",
        "        anag[element] = [i]\n",
        "\n",
        "print(anag)"
      ],
      "execution_count": 18,
      "outputs": [
        {
          "output_type": "stream",
          "text": [
            "{'aet': ['eat', 'tea', 'ate'], 'ant': ['tan', 'nat'], 'abt': ['bat'], 'act': ['cat', 'tac']}\n"
          ],
          "name": "stdout"
        }
      ]
    },
    {
      "cell_type": "code",
      "metadata": {
        "colab": {
          "base_uri": "https://localhost:8080/"
        },
        "id": "6tdO7AhPt75L",
        "outputId": "94c9d53d-6623-4653-e7bd-732194f42719"
      },
      "source": [
        "strs = [\"eat\", \"tea\", \"tan\", \"ate\", \"nat\", \"bat\", \"cat\", \"tac\"]\n",
        "anag = {}\n",
        "for i in strs:\n",
        "    element = \"\".join(sorted(i))\n",
        "    if element in anag:\n",
        "        anag[element].append(i)\n",
        "    else:\n",
        "        anag[element] = [i]\n",
        "print(list(anag.values()))"
      ],
      "execution_count": 16,
      "outputs": [
        {
          "output_type": "stream",
          "text": [
            "[['eat', 'tea', 'ate'], ['tan', 'nat'], ['bat'], ['cat', 'tac']]\n"
          ],
          "name": "stdout"
        }
      ]
    },
    {
      "cell_type": "code",
      "metadata": {
        "id": "ctX8LBmqt78M"
      },
      "source": [
        ""
      ],
      "execution_count": null,
      "outputs": []
    },
    {
      "cell_type": "code",
      "metadata": {
        "id": "Y_yjSZiKt7_v"
      },
      "source": [
        ""
      ],
      "execution_count": null,
      "outputs": []
    },
    {
      "cell_type": "code",
      "metadata": {
        "id": "Lw2o__NOt8D3"
      },
      "source": [
        ""
      ],
      "execution_count": null,
      "outputs": []
    },
    {
      "cell_type": "code",
      "metadata": {
        "id": "F0Jw72Aft8GW"
      },
      "source": [
        ""
      ],
      "execution_count": null,
      "outputs": []
    },
    {
      "cell_type": "code",
      "metadata": {
        "id": "Q3xVxVA6t8K7"
      },
      "source": [
        ""
      ],
      "execution_count": null,
      "outputs": []
    },
    {
      "cell_type": "code",
      "metadata": {
        "id": "DUGm1Z9St8Qe"
      },
      "source": [
        ""
      ],
      "execution_count": null,
      "outputs": []
    },
    {
      "cell_type": "code",
      "metadata": {
        "id": "Ci7EqD0zpKnh"
      },
      "source": [
        ""
      ],
      "execution_count": null,
      "outputs": []
    }
  ]
}