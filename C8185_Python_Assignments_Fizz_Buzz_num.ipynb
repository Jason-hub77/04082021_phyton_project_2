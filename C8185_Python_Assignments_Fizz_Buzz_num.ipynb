{
  "nbformat": 4,
  "nbformat_minor": 0,
  "metadata": {
    "colab": {
      "name": "C8185/Python-Assignments/Fizz_Buzz_num.ipynb",
      "provenance": [],
      "collapsed_sections": [],
      "authorship_tag": "ABX9TyO2DnwjHiYAm9SBbFerfS3f",
      "include_colab_link": true
    },
    "kernelspec": {
      "name": "python3",
      "display_name": "Python 3"
    },
    "language_info": {
      "name": "python"
    }
  },
  "cells": [
    {
      "cell_type": "markdown",
      "metadata": {
        "id": "view-in-github",
        "colab_type": "text"
      },
      "source": [
        "<a href=\"https://colab.research.google.com/github/Jason-hub77/C8185-Python-Assignments-New/blob/main/C8185_Python_Assignments_Fizz_Buzz_num.ipynb\" target=\"_parent\"><img src=\"https://colab.research.google.com/assets/colab-badge.svg\" alt=\"Open In Colab\"/></a>"
      ]
    },
    {
      "cell_type": "markdown",
      "metadata": {
        "id": "isX_kJY1PUeH"
      },
      "source": [
        ""
      ]
    },
    {
      "cell_type": "code",
      "metadata": {
        "colab": {
          "base_uri": "https://localhost:8080/"
        },
        "id": "amP2I2YMqXNz",
        "outputId": "571865d9-d19c-446a-abde-2112d6753151"
      },
      "source": [
        "for i in range(1,101):\n",
        "    if not i % 15:\n",
        "        i = \"FizzBuzz\"\n",
        "    elif not i % 5:\n",
        "        i = \"Buzz\"\n",
        "    elif not i % 3:\n",
        "        i = \"Fizz\"\n",
        "    print(i, sep=\"\\n\")"
      ],
      "execution_count": 1,
      "outputs": [
        {
          "output_type": "stream",
          "text": [
            "1\n",
            "2\n",
            "Fizz\n",
            "4\n",
            "Buzz\n",
            "Fizz\n",
            "7\n",
            "8\n",
            "Fizz\n",
            "Buzz\n",
            "11\n",
            "Fizz\n",
            "13\n",
            "14\n",
            "FizzBuzz\n",
            "16\n",
            "17\n",
            "Fizz\n",
            "19\n",
            "Buzz\n",
            "Fizz\n",
            "22\n",
            "23\n",
            "Fizz\n",
            "Buzz\n",
            "26\n",
            "Fizz\n",
            "28\n",
            "29\n",
            "FizzBuzz\n",
            "31\n",
            "32\n",
            "Fizz\n",
            "34\n",
            "Buzz\n",
            "Fizz\n",
            "37\n",
            "38\n",
            "Fizz\n",
            "Buzz\n",
            "41\n",
            "Fizz\n",
            "43\n",
            "44\n",
            "FizzBuzz\n",
            "46\n",
            "47\n",
            "Fizz\n",
            "49\n",
            "Buzz\n",
            "Fizz\n",
            "52\n",
            "53\n",
            "Fizz\n",
            "Buzz\n",
            "56\n",
            "Fizz\n",
            "58\n",
            "59\n",
            "FizzBuzz\n",
            "61\n",
            "62\n",
            "Fizz\n",
            "64\n",
            "Buzz\n",
            "Fizz\n",
            "67\n",
            "68\n",
            "Fizz\n",
            "Buzz\n",
            "71\n",
            "Fizz\n",
            "73\n",
            "74\n",
            "FizzBuzz\n",
            "76\n",
            "77\n",
            "Fizz\n",
            "79\n",
            "Buzz\n",
            "Fizz\n",
            "82\n",
            "83\n",
            "Fizz\n",
            "Buzz\n",
            "86\n",
            "Fizz\n",
            "88\n",
            "89\n",
            "FizzBuzz\n",
            "91\n",
            "92\n",
            "Fizz\n",
            "94\n",
            "Buzz\n",
            "Fizz\n",
            "97\n",
            "98\n",
            "Fizz\n",
            "Buzz\n"
          ],
          "name": "stdout"
        }
      ]
    },
    {
      "cell_type": "code",
      "metadata": {
        "colab": {
          "base_uri": "https://localhost:8080/"
        },
        "id": "NZnq-83xuhpO",
        "outputId": "31cfdd44-c085-4b2f-da05-adcb8860c970"
      },
      "source": [
        "p_num = []\n",
        "for i in range(1, 101):\n",
        "    for t in range(2, i):\n",
        "        if (i % t == 0):\n",
        "            break\n",
        "    else:\n",
        "      p_num.append(i)\n",
        "print(p_num)"
      ],
      "execution_count": 8,
      "outputs": [
        {
          "output_type": "stream",
          "text": [
            "[1, 2, 3, 5, 7, 11, 13, 17, 19, 23, 29, 31, 37, 41, 43, 47, 53, 59, 61, 67, 71, 73, 79, 83, 89, 97]\n"
          ],
          "name": "stdout"
        }
      ]
    },
    {
      "cell_type": "code",
      "metadata": {
        "colab": {
          "base_uri": "https://localhost:8080/"
        },
        "id": "1ZueJ3siucoP",
        "outputId": "a9adb19b-ae0a-4b0f-f468-c7bffcfdce4e"
      },
      "source": [
        "sonuc = []\n",
        "for i in range(1,101):\n",
        "    for b in range(2,i):\n",
        "        if(i%b==0):\n",
        "            break\n",
        "    else:\n",
        "        sonuc.append(i)\n",
        "print(sonuc)"
      ],
      "execution_count": 7,
      "outputs": [
        {
          "output_type": "stream",
          "text": [
            "[1, 2, 3, 5, 7, 11, 13, 17, 19, 23, 29, 31, 37, 41, 43, 47, 53, 59, 61, 67, 71, 73, 79, 83, 89, 97]\n"
          ],
          "name": "stdout"
        }
      ]
    },
    {
      "cell_type": "code",
      "metadata": {
        "colab": {
          "base_uri": "https://localhost:8080/"
        },
        "id": "slUHe-NtPbAq",
        "outputId": "be7c24e6-1fa9-4821-9a1a-8e026dff4f0b"
      },
      "source": [
        "p_num = []\n",
        "for i in range(1, 101):\n",
        "    for t in range(2, i):\n",
        "        if (i % t == 0):\n",
        "            break\n",
        "    else:\n",
        "      p_num.append(i)\n",
        "\n",
        "print(p_num)"
      ],
      "execution_count": 6,
      "outputs": [
        {
          "output_type": "stream",
          "text": [
            "[1, 2, 3, 5, 7, 11, 13, 17, 19, 23, 29, 31, 37, 41, 43, 47, 53, 59, 61, 67, 71, 73, 79, 83, 89, 97]\n"
          ],
          "name": "stdout"
        }
      ]
    },
    {
      "cell_type": "code",
      "metadata": {
        "id": "9ifnUthVOPOV",
        "colab": {
          "base_uri": "https://localhost:8080/"
        },
        "outputId": "23475dd7-1781-42c9-ca70-0c45dfba0227"
      },
      "source": [
        "num = []\n",
        "for i in range(1,101):\n",
        "    if (i%t==0 for t in range(2,i)):\n",
        "      break\n",
        "    else:\n",
        "      p_num.append(i)\n",
        "\n",
        "print(p_num)"
      ],
      "execution_count": null,
      "outputs": [
        {
          "output_type": "stream",
          "text": [
            "[1, 2, 3, 5, 7, 11, 13, 17, 19, 23, 29, 31, 37, 41, 43, 47, 53, 59, 61, 67, 71, 73, 79, 83, 89, 97]\n"
          ],
          "name": "stdout"
        }
      ]
    },
    {
      "cell_type": "code",
      "metadata": {
        "colab": {
          "base_uri": "https://localhost:8080/"
        },
        "id": "6zhIyW7TPXeB",
        "outputId": "97419bd8-f5ce-461f-f98a-03b5a0c91a24"
      },
      "source": [
        "fibonacci = [1, 1]\n",
        "for i in range(100) :\n",
        "  fibonacci.append(fibonacci[i]+fibonacci[i+1])\n",
        "  if max(fibonacci) == 55 :\n",
        "    break\n",
        "print(fibonacci)"
      ],
      "execution_count": null,
      "outputs": [
        {
          "output_type": "stream",
          "text": [
            "[1, 1, 2, 3, 5, 8, 13, 21, 34, 55]\n"
          ],
          "name": "stdout"
        }
      ]
    },
    {
      "cell_type": "code",
      "metadata": {
        "colab": {
          "base_uri": "https://localhost:8080/"
        },
        "id": "kv7CfP5pPXhA",
        "outputId": "a0d8463a-f3d7-4d92-95a8-69cc1a4874ec"
      },
      "source": [
        "def fibanocci(n):\n",
        "    dizi = [1, 1]\n",
        "    for i in range(2, n+1):\n",
        "        dizi.append(dizi[i-2] + dizi[i-1])\n",
        "    return dizi\n",
        "print(fibanocci(9))"
      ],
      "execution_count": null,
      "outputs": [
        {
          "output_type": "stream",
          "text": [
            "[1, 1, 2, 3, 5, 8, 13, 21, 34, 55]\n"
          ],
          "name": "stdout"
        }
      ]
    },
    {
      "cell_type": "code",
      "metadata": {
        "id": "UvvGDWooWJ56",
        "colab": {
          "base_uri": "https://localhost:8080/"
        },
        "outputId": "f33dfea9-f96e-46a8-99ff-69de6fad77a0"
      },
      "source": [
        "def fib(n):    # write Fibonacci series up to n\n",
        "...     \"\"\"Print a Fibonacci series up to n.\"\"\"\n",
        "...     a, b = 0, 1\n",
        "...     while a < n:\n",
        "...         print(a, end=' ')\n",
        "...         a, b = b, a+b\n",
        "...     print()\n",
        "...\n",
        "... fib(2000)"
      ],
      "execution_count": null,
      "outputs": [
        {
          "output_type": "stream",
          "text": [
            "0 1 1 2 3 5 8 13 21 34 55 89 144 233 377 610 987 1597 \n"
          ],
          "name": "stdout"
        }
      ]
    },
    {
      "cell_type": "code",
      "metadata": {
        "id": "FuAQc6svWJ9E"
      },
      "source": [
        ""
      ],
      "execution_count": null,
      "outputs": []
    },
    {
      "cell_type": "code",
      "metadata": {
        "id": "QI8K-POIWKAY"
      },
      "source": [
        ""
      ],
      "execution_count": null,
      "outputs": []
    },
    {
      "cell_type": "code",
      "metadata": {
        "id": "cAdfS9FgWKHt"
      },
      "source": [
        ""
      ],
      "execution_count": null,
      "outputs": []
    },
    {
      "cell_type": "code",
      "metadata": {
        "id": "q7UNnvgBPXm8"
      },
      "source": [
        ""
      ],
      "execution_count": null,
      "outputs": []
    },
    {
      "cell_type": "code",
      "metadata": {
        "colab": {
          "base_uri": "https://localhost:8080/"
        },
        "id": "JXFd0Zd-z4LE",
        "outputId": "d5f24260-4ae6-4992-9fd9-5ffe142bdf38"
      },
      "source": [
        "name = \"Jason\"\n",
        "for i in range(3):\n",
        "  nm = input(\"Enter your name : \")\n",
        "  j=3\n",
        "  if(nm==name):\n",
        "     print(\"Hello, Jason!  The password is : elfblgn\")\n",
        "     break\n",
        "  else:\n",
        "     print(\"Hello, {}! See You later\".format(nm))\n",
        "     continue\n",
        "print(\"\\n you can enter password\")"
      ],
      "execution_count": null,
      "outputs": [
        {
          "output_type": "stream",
          "text": [
            "Enter your name : Jason\n",
            "Hello, Jason!  The password is : elfblgn\n",
            "\n",
            " you can enter password\n"
          ],
          "name": "stdout"
        }
      ]
    },
    {
      "cell_type": "code",
      "metadata": {
        "colab": {
          "base_uri": "https://localhost:8080/"
        },
        "id": "DE0WZmehNSTa",
        "outputId": "bb91c0e3-0f92-4382-89a6-d5c83eafde6e"
      },
      "source": [
        "while True:\n",
        "  number = input (\"enter number  :\")\n",
        "  digits = len(number)\n",
        "  summ = 0\n",
        "  if not number.isdigit():\n",
        "    print(number, \"invalid entry, enter again\")\n",
        "  elif int(number) >= 0:\n",
        "    for i in range(digits):\n",
        "      summ = summ + int(number[i])**digits\n",
        "    if summ == int(number):\n",
        "      print(number, \"armstrong number\")\n",
        "      break\n",
        "    else :\n",
        "      print(number, \"not armstrog number\")\n",
        "      break"
      ],
      "execution_count": null,
      "outputs": [
        {
          "output_type": "stream",
          "text": [
            "enter number  :371\n",
            "371 armstrong number\n"
          ],
          "name": "stdout"
        }
      ]
    },
    {
      "cell_type": "code",
      "metadata": {
        "colab": {
          "base_uri": "https://localhost:8080/"
        },
        "id": "hRFLkI9R5P9q",
        "outputId": "35a4f343-3a68-451a-dbdf-e1f2caa37752"
      },
      "source": [
        "while True:\n",
        "  armstrong_sayisi = input ('Bir sayı giriniz... ')\n",
        "  if not armstrong_sayisi.strip().lstrip('+-').isdigit():\n",
        "    print (armstrong_sayisi, 'bir sayı değildir.\\n')\n",
        "  elif int (armstrong_sayisi)<0 :\n",
        "      print(\"Negatif sayı giremezsiniz...\\n\")\n",
        "  elif int (armstrong_sayisi)==0:\n",
        "      print(\"sıfır tabiki Armstrong sayısı. Tekrar deneyin...\\n\")\n",
        "  else:\n",
        "      new_armstrong = 0\n",
        "      for i in armstrong_sayisi:\n",
        "         new_armstrong += pow(int(i), len(armstrong_sayisi))\n",
        "      if new_armstrong == int(armstrong_sayisi):\n",
        "        print(armstrong_sayisi, \"bir Armstrong sayısıdır.\")\n",
        "      else:\n",
        "         print(\"Ne yazık ki\", armstrong_sayisi, \"bir Armstrong sayısı değildir.\")\n",
        "      break"
      ],
      "execution_count": null,
      "outputs": [
        {
          "output_type": "stream",
          "text": [
            "Bir sayı giriniz... 371\n",
            "371 bir Armstrong sayısıdır.\n"
          ],
          "name": "stdout"
        }
      ]
    },
    {
      "cell_type": "code",
      "metadata": {
        "colab": {
          "base_uri": "https://localhost:8080/"
        },
        "id": "sBfPWEeaNXwF",
        "outputId": "9e0f5a9a-f128-4eb3-f454-6484df548e0e"
      },
      "source": [
        "while True :\n",
        "  number = input(\"enter + number \")\n",
        "  digits = len(number)\n",
        "  summ = 0\n",
        "  if not number.isdigit():\n",
        "    print(number, \"enter again\")\n",
        "  elif int(number) >= 0:\n",
        "    for i in range(digits) :\n",
        "      summ = summ + int(number[i]) ** digits\n",
        "    if summ == int(number):\n",
        "      print(number, \"armstrong\")\n",
        "      break\n",
        "    else :\n",
        "      print(number, \"not armstrong\")\n",
        "      break"
      ],
      "execution_count": null,
      "outputs": [
        {
          "output_type": "stream",
          "text": [
            "enter + number 371\n",
            "371 armstrong\n"
          ],
          "name": "stdout"
        }
      ]
    },
    {
      "cell_type": "code",
      "metadata": {
        "colab": {
          "base_uri": "https://localhost:8080/"
        },
        "id": "u9rg8rcPNSmU",
        "outputId": "907fecc0-5f2d-4116-f971-9a1e81c86567"
      },
      "source": [
        "n = int(input(\"enter number :\"))\n",
        "count = 0\n",
        "for i in range(1, n+1):\n",
        "  if not n%i:\n",
        "    count +=1\n",
        "if (n==0) or (n==1) or (count>=3):\n",
        "  print(n, \"not prime number\")\n",
        "else:\n",
        "  print(n, \"prime number\")"
      ],
      "execution_count": null,
      "outputs": [
        {
          "output_type": "stream",
          "text": [
            "enter number :38\n",
            "38 not prime number\n"
          ],
          "name": "stdout"
        }
      ]
    },
    {
      "cell_type": "code",
      "metadata": {
        "id": "5mq1uMkENSqq"
      },
      "source": [
        ""
      ],
      "execution_count": null,
      "outputs": []
    },
    {
      "cell_type": "code",
      "metadata": {
        "id": "h0UqWx2wNSwO"
      },
      "source": [
        ""
      ],
      "execution_count": null,
      "outputs": []
    },
    {
      "cell_type": "code",
      "metadata": {
        "id": "OMoRtp51NS1z"
      },
      "source": [
        ""
      ],
      "execution_count": null,
      "outputs": []
    },
    {
      "cell_type": "code",
      "metadata": {
        "id": "RTyhzpQA5P_a"
      },
      "source": [
        "age = bool (input ('Are you a cigarette addict older than 75 years old?\\n\\\n",
        "Write yes for approval and only press enter for no ' ))\n",
        "chronic = bool (input('Do you have a severe chronic disease?\\n\\\n",
        "Write yes for approval and only press enter for no '))\n",
        "immune = bool (input('Is your immune system too weak?\\n\\\n",
        "Write yes for approval and only press enter for no '))\n",
        "risk = age and chronic and immune\n",
        "if (risk==True):\n",
        "   print(\"You are in risky group\")\n",
        "else:\n",
        "  print(\"You are not in risky group\")"
      ],
      "execution_count": null,
      "outputs": []
    },
    {
      "cell_type": "code",
      "metadata": {
        "id": "TxMr6OZ90goc",
        "colab": {
          "base_uri": "https://localhost:8080/",
          "height": 249
        },
        "outputId": "cf121bcb-7b28-4104-855f-a5dae9bf2489"
      },
      "source": [
        "for i in range(3):\n",
        "  nm = input(\"Enter your name : \")\n",
        "  j=3\n",
        "  if(nm==name):\n",
        "     print(\"Hello, Jason!  The password is : elfblgn\")\n",
        "     break\n",
        "  else:\n",
        "     print(\"Hello, {}! See You later\".format(nm))\n",
        "     continue\n",
        "print(\"\\n you can enter password\")"
      ],
      "execution_count": null,
      "outputs": [
        {
          "output_type": "stream",
          "text": [
            "Enter your name : Jason\n"
          ],
          "name": "stdout"
        },
        {
          "output_type": "error",
          "ename": "NameError",
          "evalue": "ignored",
          "traceback": [
            "\u001b[0;31m---------------------------------------------------------------------------\u001b[0m",
            "\u001b[0;31mNameError\u001b[0m                                 Traceback (most recent call last)",
            "\u001b[0;32m<ipython-input-11-936027d1ec9d>\u001b[0m in \u001b[0;36m<module>\u001b[0;34m()\u001b[0m\n\u001b[1;32m      2\u001b[0m   \u001b[0mnm\u001b[0m \u001b[0;34m=\u001b[0m \u001b[0minput\u001b[0m\u001b[0;34m(\u001b[0m\u001b[0;34m\"Enter your name : \"\u001b[0m\u001b[0;34m)\u001b[0m\u001b[0;34m\u001b[0m\u001b[0;34m\u001b[0m\u001b[0m\n\u001b[1;32m      3\u001b[0m   \u001b[0mj\u001b[0m\u001b[0;34m=\u001b[0m\u001b[0;36m3\u001b[0m\u001b[0;34m\u001b[0m\u001b[0;34m\u001b[0m\u001b[0m\n\u001b[0;32m----> 4\u001b[0;31m   \u001b[0;32mif\u001b[0m\u001b[0;34m(\u001b[0m\u001b[0mnm\u001b[0m\u001b[0;34m==\u001b[0m\u001b[0mname\u001b[0m\u001b[0;34m)\u001b[0m\u001b[0;34m:\u001b[0m\u001b[0;34m\u001b[0m\u001b[0;34m\u001b[0m\u001b[0m\n\u001b[0m\u001b[1;32m      5\u001b[0m      \u001b[0mprint\u001b[0m\u001b[0;34m(\u001b[0m\u001b[0;34m\"Hello, Jason!  The password is : elfblgn\"\u001b[0m\u001b[0;34m)\u001b[0m\u001b[0;34m\u001b[0m\u001b[0;34m\u001b[0m\u001b[0m\n\u001b[1;32m      6\u001b[0m      \u001b[0;32mbreak\u001b[0m\u001b[0;34m\u001b[0m\u001b[0;34m\u001b[0m\u001b[0m\n",
            "\u001b[0;31mNameError\u001b[0m: name 'name' is not defined"
          ]
        }
      ]
    },
    {
      "cell_type": "code",
      "metadata": {
        "id": "CvWQbIf90gqm"
      },
      "source": [
        ""
      ],
      "execution_count": null,
      "outputs": []
    }
  ]
}