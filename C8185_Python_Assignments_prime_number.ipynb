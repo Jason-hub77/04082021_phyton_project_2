{
  "nbformat": 4,
  "nbformat_minor": 0,
  "metadata": {
    "colab": {
      "name": "C8185/Python-Assignments/prime_number.ipynb",
      "provenance": [],
      "collapsed_sections": [],
      "authorship_tag": "ABX9TyNFUr4fYR7uC58yAwchWtGS",
      "include_colab_link": true
    },
    "kernelspec": {
      "name": "python3",
      "display_name": "Python 3"
    },
    "language_info": {
      "name": "python"
    }
  },
  "cells": [
    {
      "cell_type": "markdown",
      "metadata": {
        "id": "view-in-github",
        "colab_type": "text"
      },
      "source": [
        "<a href=\"https://colab.research.google.com/github/Jason-hub77/C8185-Python-Assignments-New/blob/main/C8185_Python_Assignments_prime_number.ipynb\" target=\"_parent\"><img src=\"https://colab.research.google.com/assets/colab-badge.svg\" alt=\"Open In Colab\"/></a>"
      ]
    },
    {
      "cell_type": "code",
      "metadata": {
        "id": "JXFd0Zd-z4LE"
      },
      "source": [
        "n = int(input(\"enter number\"))\n",
        "count = 0\n",
        "for i in range(1, n+1):\n",
        "  if not n % i :\n",
        "    count += 1\n",
        "if (n==0) or (n == 1) or (count >=3) :\n",
        "  print(n, \"not prime\")\n",
        "else :\n",
        "  print(n, \"is prime\")"
      ],
      "execution_count": null,
      "outputs": []
    }
  ]
}